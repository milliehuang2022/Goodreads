{
 "cells": [
  {
   "cell_type": "code",
   "execution_count": 1,
   "id": "019be458-091f-44d5-b541-6966b5a437de",
   "metadata": {},
   "outputs": [],
   "source": [
    "# Imports\n",
    "import gzip\n",
    "import json\n",
    "import re\n",
    "import os\n",
    "import sys\n",
    "import numpy as np\n",
    "import pandas as pd\n",
    "import matplotlib.pyplot as plt\n",
    "import seaborn as sns\n",
    "from collections import defaultdict\n",
    "import string\n",
    "from nltk.stem.porter import * # PorterStemmer\n",
    "from sklearn import linear_model"
   ]
  },
  {
   "cell_type": "markdown",
   "id": "86ec3620-1a4c-47c9-87b0-d93c89430e14",
   "metadata": {},
   "source": [
    "## Loading the Dataset"
   ]
  },
  {
   "cell_type": "code",
   "execution_count": 83,
   "id": "4d876948-076d-4c89-bfcc-726bbfc58ff6",
   "metadata": {},
   "outputs": [],
   "source": [
    "# Function to load dataset\n",
    "def load_data(file_name, head = 100000):\n",
    "    count = 0\n",
    "    data = []\n",
    "    with gzip.open(file_name) as fin:\n",
    "        for l in fin:\n",
    "            d = json.loads(l)\n",
    "            count += 1\n",
    "            data.append(d)\n",
    "            \n",
    "            # break if reaches the 100th line\n",
    "            if (head is not None) and (count > head):\n",
    "                break\n",
    "    return data"
   ]
  },
  {
   "cell_type": "code",
   "execution_count": 3,
   "id": "c927ee4d-5fda-4c5f-bdc0-fbaa354473c2",
   "metadata": {},
   "outputs": [],
   "source": [
    "DIR = \"/Users/milliehuang/Documents/dsc/dsu/goodreads\""
   ]
  },
  {
   "cell_type": "markdown",
   "id": "7e1078e7-9896-4e19-8783-b646ed5e227e",
   "metadata": {},
   "source": [
    "Loading the book reviews dataset"
   ]
  },
  {
   "cell_type": "code",
   "execution_count": 4,
   "id": "566098ea-4d54-4ea9-948f-ef1998cf809b",
   "metadata": {},
   "outputs": [],
   "source": [
    "book_reviews = load_data(os.path.join(DIR, 'goodreads_reviews_spoiler_raw.json.gz'))"
   ]
  },
  {
   "cell_type": "code",
   "execution_count": 5,
   "id": "43b5b0a0-5ee2-4d20-9049-992b36e478af",
   "metadata": {},
   "outputs": [],
   "source": [
    "book_reviews = pd.DataFrame(book_reviews)"
   ]
  },
  {
   "cell_type": "code",
   "execution_count": 14,
   "id": "7decb558-5ba7-4b71-82fe-c777071f6439",
   "metadata": {},
   "outputs": [
    {
     "name": "stdout",
     "output_type": "stream",
     "text": [
      " == sample record (poetry review) ==\n"
     ]
    },
    {
     "data": {
      "text/plain": [
       "'I freaking wanted to be done with this book. Thank God, I got through to the end.'"
      ]
     },
     "metadata": {},
     "output_type": "display_data"
    }
   ],
   "source": [
    "print(' == sample record (poetry review) ==')\n",
    "display(np.random.choice(book_reviews['review_text']))"
   ]
  },
  {
   "cell_type": "code",
   "execution_count": 11,
   "id": "bc078b3f-4dc7-4c41-8e03-c2e7767572ef",
   "metadata": {},
   "outputs": [
    {
     "data": {
      "text/html": [
       "<div>\n",
       "<style scoped>\n",
       "    .dataframe tbody tr th:only-of-type {\n",
       "        vertical-align: middle;\n",
       "    }\n",
       "\n",
       "    .dataframe tbody tr th {\n",
       "        vertical-align: top;\n",
       "    }\n",
       "\n",
       "    .dataframe thead th {\n",
       "        text-align: right;\n",
       "    }\n",
       "</style>\n",
       "<table border=\"1\" class=\"dataframe\">\n",
       "  <thead>\n",
       "    <tr style=\"text-align: right;\">\n",
       "      <th></th>\n",
       "      <th>rating</th>\n",
       "      <th>n_votes</th>\n",
       "      <th>n_comments</th>\n",
       "    </tr>\n",
       "  </thead>\n",
       "  <tbody>\n",
       "    <tr>\n",
       "      <th>count</th>\n",
       "      <td>100001.000000</td>\n",
       "      <td>100001.000000</td>\n",
       "      <td>100001.000000</td>\n",
       "    </tr>\n",
       "    <tr>\n",
       "      <th>mean</th>\n",
       "      <td>3.725493</td>\n",
       "      <td>2.853341</td>\n",
       "      <td>0.953640</td>\n",
       "    </tr>\n",
       "    <tr>\n",
       "      <th>std</th>\n",
       "      <td>1.234081</td>\n",
       "      <td>12.840693</td>\n",
       "      <td>4.834392</td>\n",
       "    </tr>\n",
       "    <tr>\n",
       "      <th>min</th>\n",
       "      <td>0.000000</td>\n",
       "      <td>-2.000000</td>\n",
       "      <td>-1.000000</td>\n",
       "    </tr>\n",
       "    <tr>\n",
       "      <th>25%</th>\n",
       "      <td>3.000000</td>\n",
       "      <td>0.000000</td>\n",
       "      <td>0.000000</td>\n",
       "    </tr>\n",
       "    <tr>\n",
       "      <th>50%</th>\n",
       "      <td>4.000000</td>\n",
       "      <td>0.000000</td>\n",
       "      <td>0.000000</td>\n",
       "    </tr>\n",
       "    <tr>\n",
       "      <th>75%</th>\n",
       "      <td>5.000000</td>\n",
       "      <td>2.000000</td>\n",
       "      <td>0.000000</td>\n",
       "    </tr>\n",
       "    <tr>\n",
       "      <th>max</th>\n",
       "      <td>5.000000</td>\n",
       "      <td>931.000000</td>\n",
       "      <td>564.000000</td>\n",
       "    </tr>\n",
       "  </tbody>\n",
       "</table>\n",
       "</div>"
      ],
      "text/plain": [
       "              rating        n_votes     n_comments\n",
       "count  100001.000000  100001.000000  100001.000000\n",
       "mean        3.725493       2.853341       0.953640\n",
       "std         1.234081      12.840693       4.834392\n",
       "min         0.000000      -2.000000      -1.000000\n",
       "25%         3.000000       0.000000       0.000000\n",
       "50%         4.000000       0.000000       0.000000\n",
       "75%         5.000000       2.000000       0.000000\n",
       "max         5.000000     931.000000     564.000000"
      ]
     },
     "execution_count": 11,
     "metadata": {},
     "output_type": "execute_result"
    }
   ],
   "source": [
    "book_reviews.describe()"
   ]
  },
  {
   "cell_type": "code",
   "execution_count": 15,
   "id": "4902e3a3-b375-4c53-87e0-b237123ff9bc",
   "metadata": {},
   "outputs": [],
   "source": [
    "book_reviews['book_id'] = book_reviews['book_id'].astype(int)"
   ]
  },
  {
   "cell_type": "code",
   "execution_count": 13,
   "id": "fcf1c519-81f2-4206-b1f3-35557652c19c",
   "metadata": {},
   "outputs": [
    {
     "data": {
      "text/html": [
       "<div>\n",
       "<style scoped>\n",
       "    .dataframe tbody tr th:only-of-type {\n",
       "        vertical-align: middle;\n",
       "    }\n",
       "\n",
       "    .dataframe tbody tr th {\n",
       "        vertical-align: top;\n",
       "    }\n",
       "\n",
       "    .dataframe thead th {\n",
       "        text-align: right;\n",
       "    }\n",
       "</style>\n",
       "<table border=\"1\" class=\"dataframe\">\n",
       "  <thead>\n",
       "    <tr style=\"text-align: right;\">\n",
       "      <th></th>\n",
       "      <th>user_id</th>\n",
       "      <th>book_id</th>\n",
       "      <th>review_id</th>\n",
       "      <th>rating</th>\n",
       "      <th>review_text</th>\n",
       "      <th>date_added</th>\n",
       "      <th>date_updated</th>\n",
       "      <th>read_at</th>\n",
       "      <th>started_at</th>\n",
       "      <th>n_votes</th>\n",
       "      <th>n_comments</th>\n",
       "    </tr>\n",
       "  </thead>\n",
       "  <tbody>\n",
       "    <tr>\n",
       "      <th>0</th>\n",
       "      <td>8842281e1d1347389f2ab93d60773d4d</td>\n",
       "      <td>18245960</td>\n",
       "      <td>dfdbb7b0eb5a7e4c26d59a937e2e5feb</td>\n",
       "      <td>5</td>\n",
       "      <td>This is a special book. It started slow for ab...</td>\n",
       "      <td>Sun Jul 30 07:44:10 -0700 2017</td>\n",
       "      <td>Wed Aug 30 00:00:26 -0700 2017</td>\n",
       "      <td>Sat Aug 26 12:05:52 -0700 2017</td>\n",
       "      <td>Tue Aug 15 13:23:18 -0700 2017</td>\n",
       "      <td>28</td>\n",
       "      <td>1</td>\n",
       "    </tr>\n",
       "    <tr>\n",
       "      <th>1</th>\n",
       "      <td>8842281e1d1347389f2ab93d60773d4d</td>\n",
       "      <td>16981</td>\n",
       "      <td>a5d2c3628987712d0e05c4f90798eb67</td>\n",
       "      <td>3</td>\n",
       "      <td>Recommended by Don Katz. Avail for free in Dec...</td>\n",
       "      <td>Mon Dec 05 10:46:44 -0800 2016</td>\n",
       "      <td>Wed Mar 22 11:37:04 -0700 2017</td>\n",
       "      <td></td>\n",
       "      <td></td>\n",
       "      <td>1</td>\n",
       "      <td>0</td>\n",
       "    </tr>\n",
       "    <tr>\n",
       "      <th>2</th>\n",
       "      <td>8842281e1d1347389f2ab93d60773d4d</td>\n",
       "      <td>28684704</td>\n",
       "      <td>2ede853b14dc4583f96cf5d120af636f</td>\n",
       "      <td>3</td>\n",
       "      <td>A fun, fast paced science fiction thriller. I ...</td>\n",
       "      <td>Tue Nov 15 11:29:22 -0800 2016</td>\n",
       "      <td>Mon Mar 20 23:40:27 -0700 2017</td>\n",
       "      <td>Sat Mar 18 23:22:42 -0700 2017</td>\n",
       "      <td>Fri Mar 17 23:45:40 -0700 2017</td>\n",
       "      <td>22</td>\n",
       "      <td>0</td>\n",
       "    </tr>\n",
       "    <tr>\n",
       "      <th>3</th>\n",
       "      <td>8842281e1d1347389f2ab93d60773d4d</td>\n",
       "      <td>27161156</td>\n",
       "      <td>ced5675e55cd9d38a524743f5c40996e</td>\n",
       "      <td>0</td>\n",
       "      <td>Recommended reading to understand what is goin...</td>\n",
       "      <td>Wed Nov 09 17:37:04 -0800 2016</td>\n",
       "      <td>Wed Nov 09 17:38:20 -0800 2016</td>\n",
       "      <td></td>\n",
       "      <td></td>\n",
       "      <td>5</td>\n",
       "      <td>1</td>\n",
       "    </tr>\n",
       "    <tr>\n",
       "      <th>4</th>\n",
       "      <td>8842281e1d1347389f2ab93d60773d4d</td>\n",
       "      <td>25884323</td>\n",
       "      <td>332732725863131279a8e345b63ac33e</td>\n",
       "      <td>4</td>\n",
       "      <td>I really enjoyed this book, and there is a lot...</td>\n",
       "      <td>Mon Apr 25 09:31:23 -0700 2016</td>\n",
       "      <td>Mon Apr 25 09:31:23 -0700 2016</td>\n",
       "      <td>Sun Jun 26 00:00:00 -0700 2016</td>\n",
       "      <td>Sat May 28 00:00:00 -0700 2016</td>\n",
       "      <td>9</td>\n",
       "      <td>1</td>\n",
       "    </tr>\n",
       "  </tbody>\n",
       "</table>\n",
       "</div>"
      ],
      "text/plain": [
       "                            user_id   book_id  \\\n",
       "0  8842281e1d1347389f2ab93d60773d4d  18245960   \n",
       "1  8842281e1d1347389f2ab93d60773d4d     16981   \n",
       "2  8842281e1d1347389f2ab93d60773d4d  28684704   \n",
       "3  8842281e1d1347389f2ab93d60773d4d  27161156   \n",
       "4  8842281e1d1347389f2ab93d60773d4d  25884323   \n",
       "\n",
       "                          review_id  rating  \\\n",
       "0  dfdbb7b0eb5a7e4c26d59a937e2e5feb       5   \n",
       "1  a5d2c3628987712d0e05c4f90798eb67       3   \n",
       "2  2ede853b14dc4583f96cf5d120af636f       3   \n",
       "3  ced5675e55cd9d38a524743f5c40996e       0   \n",
       "4  332732725863131279a8e345b63ac33e       4   \n",
       "\n",
       "                                         review_text  \\\n",
       "0  This is a special book. It started slow for ab...   \n",
       "1  Recommended by Don Katz. Avail for free in Dec...   \n",
       "2  A fun, fast paced science fiction thriller. I ...   \n",
       "3  Recommended reading to understand what is goin...   \n",
       "4  I really enjoyed this book, and there is a lot...   \n",
       "\n",
       "                       date_added                    date_updated  \\\n",
       "0  Sun Jul 30 07:44:10 -0700 2017  Wed Aug 30 00:00:26 -0700 2017   \n",
       "1  Mon Dec 05 10:46:44 -0800 2016  Wed Mar 22 11:37:04 -0700 2017   \n",
       "2  Tue Nov 15 11:29:22 -0800 2016  Mon Mar 20 23:40:27 -0700 2017   \n",
       "3  Wed Nov 09 17:37:04 -0800 2016  Wed Nov 09 17:38:20 -0800 2016   \n",
       "4  Mon Apr 25 09:31:23 -0700 2016  Mon Apr 25 09:31:23 -0700 2016   \n",
       "\n",
       "                          read_at                      started_at  n_votes  \\\n",
       "0  Sat Aug 26 12:05:52 -0700 2017  Tue Aug 15 13:23:18 -0700 2017       28   \n",
       "1                                                                        1   \n",
       "2  Sat Mar 18 23:22:42 -0700 2017  Fri Mar 17 23:45:40 -0700 2017       22   \n",
       "3                                                                        5   \n",
       "4  Sun Jun 26 00:00:00 -0700 2016  Sat May 28 00:00:00 -0700 2016        9   \n",
       "\n",
       "   n_comments  \n",
       "0           1  \n",
       "1           0  \n",
       "2           0  \n",
       "3           1  \n",
       "4           1  "
      ]
     },
     "execution_count": 13,
     "metadata": {},
     "output_type": "execute_result"
    }
   ],
   "source": [
    "book_reviews.head()"
   ]
  },
  {
   "cell_type": "markdown",
   "id": "00e92fa4-4919-427f-a8f7-75fa752c85d3",
   "metadata": {},
   "source": [
    "Loading the Book Information Dataset"
   ]
  },
  {
   "cell_type": "raw",
   "id": "f43aa81b-816d-42da-9142-ebcfea6130c6",
   "metadata": {},
   "source": [
    "book_info = load_data(os.path.join(DIR, 'goodreads_books.json.gz'), 2000000)"
   ]
  },
  {
   "cell_type": "raw",
   "id": "c0dc93a4-4e7a-48ec-ac9e-2ddd1e30435c",
   "metadata": {},
   "source": [
    "book_info = pd.DataFrame(book_info)"
   ]
  },
  {
   "cell_type": "code",
   "execution_count": 12,
   "id": "40e5c635-27dd-4b6c-a42d-54d4930b58a9",
   "metadata": {},
   "outputs": [],
   "source": [
    "# book_info = book_info[['isbn', 'language_code', 'average_rating', 'publication_year', 'url', 'image_url', 'book_id', 'ratings_count', 'title','title_without_series']]"
   ]
  },
  {
   "cell_type": "raw",
   "id": "28244874-0d4f-4ad7-bdb4-db7a7bff6e1c",
   "metadata": {},
   "source": [
    "book_info['book_id'] = book_info['book_id'].astype(int)"
   ]
  },
  {
   "cell_type": "raw",
   "id": "9e37ebed-17fa-40c8-807e-da7b8bdcad33",
   "metadata": {},
   "source": [
    "book_info.head()"
   ]
  },
  {
   "cell_type": "code",
   "execution_count": 15,
   "id": "89f4fff8-b186-4edf-bf89-0cf8d3c9b329",
   "metadata": {},
   "outputs": [],
   "source": [
    "book_info1 = pd.read_csv('book1-100k.csv')"
   ]
  },
  {
   "cell_type": "code",
   "execution_count": 17,
   "id": "be5bed75-1a82-45ea-886b-b04b9449b477",
   "metadata": {},
   "outputs": [
    {
     "data": {
      "text/html": [
       "<div>\n",
       "<style scoped>\n",
       "    .dataframe tbody tr th:only-of-type {\n",
       "        vertical-align: middle;\n",
       "    }\n",
       "\n",
       "    .dataframe tbody tr th {\n",
       "        vertical-align: top;\n",
       "    }\n",
       "\n",
       "    .dataframe thead th {\n",
       "        text-align: right;\n",
       "    }\n",
       "</style>\n",
       "<table border=\"1\" class=\"dataframe\">\n",
       "  <thead>\n",
       "    <tr style=\"text-align: right;\">\n",
       "      <th></th>\n",
       "      <th>Id</th>\n",
       "      <th>Name</th>\n",
       "      <th>RatingDist1</th>\n",
       "      <th>pagesNumber</th>\n",
       "      <th>RatingDist4</th>\n",
       "      <th>RatingDistTotal</th>\n",
       "      <th>PublishMonth</th>\n",
       "      <th>PublishDay</th>\n",
       "      <th>Publisher</th>\n",
       "      <th>CountsOfReview</th>\n",
       "      <th>PublishYear</th>\n",
       "      <th>Language</th>\n",
       "      <th>Authors</th>\n",
       "      <th>Rating</th>\n",
       "      <th>RatingDist2</th>\n",
       "      <th>RatingDist5</th>\n",
       "      <th>ISBN</th>\n",
       "      <th>RatingDist3</th>\n",
       "    </tr>\n",
       "  </thead>\n",
       "  <tbody>\n",
       "    <tr>\n",
       "      <th>25208</th>\n",
       "      <td>41865</td>\n",
       "      <td>Twilight (Twilight, #1)</td>\n",
       "      <td>1:531054</td>\n",
       "      <td>501</td>\n",
       "      <td>4:1059392</td>\n",
       "      <td>total:4734773</td>\n",
       "      <td>6</td>\n",
       "      <td>9</td>\n",
       "      <td>Little, Brown and Company</td>\n",
       "      <td>94850</td>\n",
       "      <td>2006</td>\n",
       "      <td>eng</td>\n",
       "      <td>Stephenie Meyer</td>\n",
       "      <td>3.59</td>\n",
       "      <td>2:520599</td>\n",
       "      <td>5:1662040</td>\n",
       "      <td>0316015849</td>\n",
       "      <td>3:961688</td>\n",
       "    </tr>\n",
       "    <tr>\n",
       "      <th>11401</th>\n",
       "      <td>19063</td>\n",
       "      <td>The Book Thief</td>\n",
       "      <td>1:24330</td>\n",
       "      <td>552</td>\n",
       "      <td>4:495431</td>\n",
       "      <td>total:1727186</td>\n",
       "      <td>14</td>\n",
       "      <td>3</td>\n",
       "      <td>Alfred A. Knopf</td>\n",
       "      <td>87685</td>\n",
       "      <td>2006</td>\n",
       "      <td>eng</td>\n",
       "      <td>Markus Zusak</td>\n",
       "      <td>4.37</td>\n",
       "      <td>2:45995</td>\n",
       "      <td>5:985221</td>\n",
       "      <td>0375831002</td>\n",
       "      <td>3:176209</td>\n",
       "    </tr>\n",
       "    <tr>\n",
       "      <th>2</th>\n",
       "      <td>3</td>\n",
       "      <td>Harry Potter and the Sorcerer's Stone (Harry P...</td>\n",
       "      <td>1:108202</td>\n",
       "      <td>309</td>\n",
       "      <td>4:1513191</td>\n",
       "      <td>total:6587388</td>\n",
       "      <td>1</td>\n",
       "      <td>11</td>\n",
       "      <td>Scholastic Inc</td>\n",
       "      <td>75911</td>\n",
       "      <td>2003</td>\n",
       "      <td>eng</td>\n",
       "      <td>J.K. Rowling</td>\n",
       "      <td>4.47</td>\n",
       "      <td>2:130310</td>\n",
       "      <td>5:4268227</td>\n",
       "      <td>NaN</td>\n",
       "      <td>3:567458</td>\n",
       "    </tr>\n",
       "    <tr>\n",
       "      <th>2320</th>\n",
       "      <td>3636</td>\n",
       "      <td>The Giver (The Giver, #1)</td>\n",
       "      <td>1:32692</td>\n",
       "      <td>208</td>\n",
       "      <td>4:558893</td>\n",
       "      <td>total:1681531</td>\n",
       "      <td>24</td>\n",
       "      <td>1</td>\n",
       "      <td>Ember</td>\n",
       "      <td>57034</td>\n",
       "      <td>2006</td>\n",
       "      <td>eng</td>\n",
       "      <td>Lois Lowry</td>\n",
       "      <td>4.13</td>\n",
       "      <td>2:73091</td>\n",
       "      <td>5:739329</td>\n",
       "      <td>0385732554</td>\n",
       "      <td>3:277526</td>\n",
       "    </tr>\n",
       "    <tr>\n",
       "      <th>26215</th>\n",
       "      <td>43641</td>\n",
       "      <td>Water for Elephants</td>\n",
       "      <td>1:19553</td>\n",
       "      <td>335</td>\n",
       "      <td>4:494509</td>\n",
       "      <td>total:1327834</td>\n",
       "      <td>1</td>\n",
       "      <td>5</td>\n",
       "      <td>Algonquin Books</td>\n",
       "      <td>52918</td>\n",
       "      <td>2007</td>\n",
       "      <td>eng</td>\n",
       "      <td>Sara Gruen</td>\n",
       "      <td>4.09</td>\n",
       "      <td>2:57353</td>\n",
       "      <td>5:522497</td>\n",
       "      <td>1565125606</td>\n",
       "      <td>3:233922</td>\n",
       "    </tr>\n",
       "  </tbody>\n",
       "</table>\n",
       "</div>"
      ],
      "text/plain": [
       "          Id                                               Name RatingDist1  \\\n",
       "25208  41865                            Twilight (Twilight, #1)    1:531054   \n",
       "11401  19063                                     The Book Thief     1:24330   \n",
       "2          3  Harry Potter and the Sorcerer's Stone (Harry P...    1:108202   \n",
       "2320    3636                          The Giver (The Giver, #1)     1:32692   \n",
       "26215  43641                                Water for Elephants     1:19553   \n",
       "\n",
       "       pagesNumber RatingDist4 RatingDistTotal  PublishMonth  PublishDay  \\\n",
       "25208          501   4:1059392   total:4734773             6           9   \n",
       "11401          552    4:495431   total:1727186            14           3   \n",
       "2              309   4:1513191   total:6587388             1          11   \n",
       "2320           208    4:558893   total:1681531            24           1   \n",
       "26215          335    4:494509   total:1327834             1           5   \n",
       "\n",
       "                       Publisher  CountsOfReview  PublishYear Language  \\\n",
       "25208  Little, Brown and Company           94850         2006      eng   \n",
       "11401            Alfred A. Knopf           87685         2006      eng   \n",
       "2                 Scholastic Inc           75911         2003      eng   \n",
       "2320                       Ember           57034         2006      eng   \n",
       "26215            Algonquin Books           52918         2007      eng   \n",
       "\n",
       "               Authors  Rating RatingDist2 RatingDist5        ISBN RatingDist3  \n",
       "25208  Stephenie Meyer    3.59    2:520599   5:1662040  0316015849    3:961688  \n",
       "11401     Markus Zusak    4.37     2:45995    5:985221  0375831002    3:176209  \n",
       "2         J.K. Rowling    4.47    2:130310   5:4268227         NaN    3:567458  \n",
       "2320        Lois Lowry    4.13     2:73091    5:739329  0385732554    3:277526  \n",
       "26215       Sara Gruen    4.09     2:57353    5:522497  1565125606    3:233922  "
      ]
     },
     "execution_count": 17,
     "metadata": {},
     "output_type": "execute_result"
    }
   ],
   "source": [
    "book_info1.sort_values(by = \"CountsOfReview\", ascending = False).head()"
   ]
  },
  {
   "cell_type": "code",
   "execution_count": 18,
   "id": "1aa98896-2b5c-434e-b749-edb7c878b78e",
   "metadata": {},
   "outputs": [],
   "source": [
    "book_info1['Id'] = book_info1['Id'].astype(int)"
   ]
  },
  {
   "cell_type": "code",
   "execution_count": 19,
   "id": "291296f1-5b02-4c3c-a7ef-95076a8337c5",
   "metadata": {},
   "outputs": [],
   "source": [
    "book_info1 = pd.concat([book_info1, pd.read_csv('book200k-300k.csv'),\n",
    "                       pd.read_csv('book300k-400k.csv'),\n",
    "                       pd.read_csv('book400k-500k.csv'),\n",
    "                       pd.read_csv('book500k-600k.csv'),\n",
    "                       pd.read_csv('book600k-700k.csv'),\n",
    "                       pd.read_csv('book700k-800k.csv'),\n",
    "                       pd.read_csv('book800k-900k.csv'),\n",
    "                       pd.read_csv('book900k-1000k.csv'),\n",
    "                    pd.read_csv('book1000k-1100k.csv'),\n",
    "                    pd.read_csv('book1100k-1200k.csv'),\n",
    "                    pd.read_csv('book1200k-1300k.csv'),\n",
    "                    pd.read_csv('book1300k-1400k.csv'),\n",
    "                    pd.read_csv('book1400k-1500k.csv'),\n",
    "                    pd.read_csv('book1500k-1600k.csv'),\n",
    "                    pd.read_csv('book1600k-1700k.csv'),\n",
    "                    pd.read_csv('book1700k-1800k.csv'),\n",
    "                    pd.read_csv('book1800k-1900k.csv'),\n",
    "                    pd.read_csv('book1900k-2000k.csv'),\n",
    "                    pd.read_csv('book2000k-3000k.csv'),\n",
    "                    pd.read_csv('book3000k-4000k.csv')])"
   ]
  },
  {
   "cell_type": "code",
   "execution_count": 97,
   "id": "967f3028-08a8-4ebc-9b85-0284f8f47529",
   "metadata": {},
   "outputs": [],
   "source": [
    "# embedding_df = pd.merge(book_reviews, book_info, left_on = 'book_id', right_on = 'book_id', how = 'inner')"
   ]
  },
  {
   "cell_type": "code",
   "execution_count": 99,
   "id": "d3872c8b-d270-4c91-92bf-bdf9b7786332",
   "metadata": {},
   "outputs": [
    {
     "data": {
      "text/html": [
       "<div>\n",
       "<style scoped>\n",
       "    .dataframe tbody tr th:only-of-type {\n",
       "        vertical-align: middle;\n",
       "    }\n",
       "\n",
       "    .dataframe tbody tr th {\n",
       "        vertical-align: top;\n",
       "    }\n",
       "\n",
       "    .dataframe thead th {\n",
       "        text-align: right;\n",
       "    }\n",
       "</style>\n",
       "<table border=\"1\" class=\"dataframe\">\n",
       "  <thead>\n",
       "    <tr style=\"text-align: right;\">\n",
       "      <th></th>\n",
       "      <th>book_id</th>\n",
       "      <th>rating</th>\n",
       "      <th>n_votes</th>\n",
       "      <th>n_comments</th>\n",
       "    </tr>\n",
       "  </thead>\n",
       "  <tbody>\n",
       "    <tr>\n",
       "      <th>count</th>\n",
       "      <td>8.471700e+04</td>\n",
       "      <td>84717.000000</td>\n",
       "      <td>84717.000000</td>\n",
       "      <td>84717.000000</td>\n",
       "    </tr>\n",
       "    <tr>\n",
       "      <th>mean</th>\n",
       "      <td>1.335404e+07</td>\n",
       "      <td>3.722936</td>\n",
       "      <td>2.864679</td>\n",
       "      <td>0.962617</td>\n",
       "    </tr>\n",
       "    <tr>\n",
       "      <th>std</th>\n",
       "      <td>9.198530e+06</td>\n",
       "      <td>1.235133</td>\n",
       "      <td>12.788352</td>\n",
       "      <td>4.935201</td>\n",
       "    </tr>\n",
       "    <tr>\n",
       "      <th>min</th>\n",
       "      <td>1.000000e+00</td>\n",
       "      <td>0.000000</td>\n",
       "      <td>-2.000000</td>\n",
       "      <td>-1.000000</td>\n",
       "    </tr>\n",
       "    <tr>\n",
       "      <th>25%</th>\n",
       "      <td>6.308379e+06</td>\n",
       "      <td>3.000000</td>\n",
       "      <td>0.000000</td>\n",
       "      <td>0.000000</td>\n",
       "    </tr>\n",
       "    <tr>\n",
       "      <th>50%</th>\n",
       "      <td>1.353887e+07</td>\n",
       "      <td>4.000000</td>\n",
       "      <td>0.000000</td>\n",
       "      <td>0.000000</td>\n",
       "    </tr>\n",
       "    <tr>\n",
       "      <th>75%</th>\n",
       "      <td>1.920810e+07</td>\n",
       "      <td>5.000000</td>\n",
       "      <td>2.000000</td>\n",
       "      <td>0.000000</td>\n",
       "    </tr>\n",
       "    <tr>\n",
       "      <th>max</th>\n",
       "      <td>3.632868e+07</td>\n",
       "      <td>5.000000</td>\n",
       "      <td>931.000000</td>\n",
       "      <td>564.000000</td>\n",
       "    </tr>\n",
       "  </tbody>\n",
       "</table>\n",
       "</div>"
      ],
      "text/plain": [
       "            book_id        rating       n_votes    n_comments\n",
       "count  8.471700e+04  84717.000000  84717.000000  84717.000000\n",
       "mean   1.335404e+07      3.722936      2.864679      0.962617\n",
       "std    9.198530e+06      1.235133     12.788352      4.935201\n",
       "min    1.000000e+00      0.000000     -2.000000     -1.000000\n",
       "25%    6.308379e+06      3.000000      0.000000      0.000000\n",
       "50%    1.353887e+07      4.000000      0.000000      0.000000\n",
       "75%    1.920810e+07      5.000000      2.000000      0.000000\n",
       "max    3.632868e+07      5.000000    931.000000    564.000000"
      ]
     },
     "execution_count": 99,
     "metadata": {},
     "output_type": "execute_result"
    }
   ],
   "source": [
    "# embedding_df.describe()"
   ]
  },
  {
   "cell_type": "code",
   "execution_count": null,
   "id": "492d44fe-5b9f-4351-af7d-68d28fb507cd",
   "metadata": {
    "scrolled": true
   },
   "outputs": [],
   "source": [
    "# embedding_df.sort_values(by = 'ratings_count', ascending = False)[['title_without_series', 'ratings_count', 'book_id']]"
   ]
  },
  {
   "cell_type": "markdown",
   "id": "a51b7945-5469-40b1-ac74-021a20e33502",
   "metadata": {},
   "source": [
    "NOTE: Run instead pd.read_csv(\"book_info_reviews.csv\") "
   ]
  },
  {
   "cell_type": "code",
   "execution_count": 4,
   "id": "36fbfc69-88a5-47a5-b443-49ae6fdbe45c",
   "metadata": {},
   "outputs": [],
   "source": [
    "embedding_df = pd.read_csv('book_info_reviews.csv', low_memory = False)"
   ]
  },
  {
   "cell_type": "code",
   "execution_count": 5,
   "id": "7304780b-def1-43bd-af4b-6a9268b2cffb",
   "metadata": {},
   "outputs": [],
   "source": [
    "embedding_df.drop('Unnamed: 0', axis=1, inplace=True)"
   ]
  },
  {
   "cell_type": "code",
   "execution_count": 6,
   "id": "90b37551-575c-48bd-9032-34a5c2335f11",
   "metadata": {},
   "outputs": [
    {
     "data": {
      "text/html": [
       "<div>\n",
       "<style scoped>\n",
       "    .dataframe tbody tr th:only-of-type {\n",
       "        vertical-align: middle;\n",
       "    }\n",
       "\n",
       "    .dataframe tbody tr th {\n",
       "        vertical-align: top;\n",
       "    }\n",
       "\n",
       "    .dataframe thead th {\n",
       "        text-align: right;\n",
       "    }\n",
       "</style>\n",
       "<table border=\"1\" class=\"dataframe\">\n",
       "  <thead>\n",
       "    <tr style=\"text-align: right;\">\n",
       "      <th></th>\n",
       "      <th>title_without_series</th>\n",
       "      <th>review_text</th>\n",
       "      <th>image_url</th>\n",
       "      <th>ratings_count</th>\n",
       "      <th>publication_year</th>\n",
       "      <th>book_id</th>\n",
       "      <th>embedding</th>\n",
       "      <th>embedding_avg</th>\n",
       "      <th>review_text_sentence</th>\n",
       "    </tr>\n",
       "  </thead>\n",
       "  <tbody>\n",
       "    <tr>\n",
       "      <th>0</th>\n",
       "      <td>The Three-Body Problem (Remembrance of Earth’s...</td>\n",
       "      <td>special book started slow first third middle t...</td>\n",
       "      <td>https://images.gr-assets.com/books/1396560452m...</td>\n",
       "      <td>6336</td>\n",
       "      <td>2014.0</td>\n",
       "      <td>18245960</td>\n",
       "      <td>[]</td>\n",
       "      <td>[]</td>\n",
       "      <td>This is a special book. It started slow for ab...</td>\n",
       "    </tr>\n",
       "    <tr>\n",
       "      <th>1</th>\n",
       "      <td>The Three-Body Problem (Remembrance of Earth’s...</td>\n",
       "      <td>special book started slow first third middle t...</td>\n",
       "      <td>https://images.gr-assets.com/books/1396560452m...</td>\n",
       "      <td>6336</td>\n",
       "      <td>2014.0</td>\n",
       "      <td>18245960</td>\n",
       "      <td>[]</td>\n",
       "      <td>[]</td>\n",
       "      <td>Average between the 4 star concepts (overall p...</td>\n",
       "    </tr>\n",
       "    <tr>\n",
       "      <th>2</th>\n",
       "      <td>The Three-Body Problem (Remembrance of Earth’s...</td>\n",
       "      <td>special book started slow first third middle t...</td>\n",
       "      <td>https://images.gr-assets.com/books/1396560452m...</td>\n",
       "      <td>6336</td>\n",
       "      <td>2014.0</td>\n",
       "      <td>18245960</td>\n",
       "      <td>[]</td>\n",
       "      <td>[]</td>\n",
       "      <td>A really refreshing take on science fiction an...</td>\n",
       "    </tr>\n",
       "    <tr>\n",
       "      <th>3</th>\n",
       "      <td>The Three-Body Problem (Remembrance of Earth’s...</td>\n",
       "      <td>special book started slow first third middle t...</td>\n",
       "      <td>https://images.gr-assets.com/books/1396560452m...</td>\n",
       "      <td>6336</td>\n",
       "      <td>2014.0</td>\n",
       "      <td>18245960</td>\n",
       "      <td>[]</td>\n",
       "      <td>[]</td>\n",
       "      <td>I'm really waffling between whether to rate \"d...</td>\n",
       "    </tr>\n",
       "    <tr>\n",
       "      <th>4</th>\n",
       "      <td>Invisible Man</td>\n",
       "      <td>recommended katz avail free december httpwwwau...</td>\n",
       "      <td>https://images.gr-assets.com/books/1352854247m...</td>\n",
       "      <td>125232</td>\n",
       "      <td>1995.0</td>\n",
       "      <td>16981</td>\n",
       "      <td>[]</td>\n",
       "      <td>[]</td>\n",
       "      <td>Recommended by Don Katz. Avail for free in Dec...</td>\n",
       "    </tr>\n",
       "  </tbody>\n",
       "</table>\n",
       "</div>"
      ],
      "text/plain": [
       "                                title_without_series  \\\n",
       "0  The Three-Body Problem (Remembrance of Earth’s...   \n",
       "1  The Three-Body Problem (Remembrance of Earth’s...   \n",
       "2  The Three-Body Problem (Remembrance of Earth’s...   \n",
       "3  The Three-Body Problem (Remembrance of Earth’s...   \n",
       "4                                      Invisible Man   \n",
       "\n",
       "                                         review_text  \\\n",
       "0  special book started slow first third middle t...   \n",
       "1  special book started slow first third middle t...   \n",
       "2  special book started slow first third middle t...   \n",
       "3  special book started slow first third middle t...   \n",
       "4  recommended katz avail free december httpwwwau...   \n",
       "\n",
       "                                           image_url  ratings_count  \\\n",
       "0  https://images.gr-assets.com/books/1396560452m...           6336   \n",
       "1  https://images.gr-assets.com/books/1396560452m...           6336   \n",
       "2  https://images.gr-assets.com/books/1396560452m...           6336   \n",
       "3  https://images.gr-assets.com/books/1396560452m...           6336   \n",
       "4  https://images.gr-assets.com/books/1352854247m...         125232   \n",
       "\n",
       "   publication_year   book_id embedding embedding_avg  \\\n",
       "0            2014.0  18245960        []            []   \n",
       "1            2014.0  18245960        []            []   \n",
       "2            2014.0  18245960        []            []   \n",
       "3            2014.0  18245960        []            []   \n",
       "4            1995.0     16981        []            []   \n",
       "\n",
       "                                review_text_sentence  \n",
       "0  This is a special book. It started slow for ab...  \n",
       "1  Average between the 4 star concepts (overall p...  \n",
       "2  A really refreshing take on science fiction an...  \n",
       "3  I'm really waffling between whether to rate \"d...  \n",
       "4  Recommended by Don Katz. Avail for free in Dec...  "
      ]
     },
     "execution_count": 6,
     "metadata": {},
     "output_type": "execute_result"
    }
   ],
   "source": [
    "embedding_df.head()"
   ]
  },
  {
   "cell_type": "code",
   "execution_count": 13,
   "id": "a7c13573-8c45-4788-8106-4701959e600a",
   "metadata": {},
   "outputs": [
    {
     "data": {
      "text/plain": [
       "(84717, 39)"
      ]
     },
     "execution_count": 13,
     "metadata": {},
     "output_type": "execute_result"
    }
   ],
   "source": [
    "embedding_df.shape"
   ]
  },
  {
   "cell_type": "markdown",
   "id": "d241ff93-c3e6-407c-97ad-bdef41217aef",
   "metadata": {},
   "source": [
    "## Cleaning the Data"
   ]
  },
  {
   "cell_type": "markdown",
   "id": "06861eb0-4f04-481d-8815-4eec59af5703",
   "metadata": {},
   "source": [
    "Making the reviews lowercase:"
   ]
  },
  {
   "cell_type": "code",
   "execution_count": 25,
   "id": "4448b27d-5650-403d-befb-74eec98c40b4",
   "metadata": {},
   "outputs": [],
   "source": [
    "book_reviews['review_text'] = book_reviews['review_text'].str.lower()"
   ]
  },
  {
   "cell_type": "markdown",
   "id": "1e44e809-ee0a-4351-a85e-e1005ae881b6",
   "metadata": {},
   "source": [
    "Deleting the newline character /n:"
   ]
  },
  {
   "cell_type": "code",
   "execution_count": 2,
   "id": "906a6d2b-fc1d-4ff0-9e1f-2cd9eebb19cf",
   "metadata": {},
   "outputs": [],
   "source": [
    "f = (lambda x: x if x != '\\n' else '')\n",
    "def delete_newline(sentence):\n",
    "    words = sentence.split()\n",
    "    result = [f(word) for word in words]\n",
    "    return ' '.join(result)"
   ]
  },
  {
   "cell_type": "code",
   "execution_count": 27,
   "id": "6ae9d5a7-f57f-4306-89c4-9dfc9ec3e014",
   "metadata": {},
   "outputs": [],
   "source": [
    "book_reviews['review_text'] = book_reviews['review_text'].apply(delete_newline)"
   ]
  },
  {
   "cell_type": "markdown",
   "id": "2be22025-561d-4eae-8d26-d5b3997f4575",
   "metadata": {},
   "source": [
    "Deleting the punctuation:"
   ]
  },
  {
   "cell_type": "code",
   "execution_count": 63,
   "id": "6f5b1d31-2ae0-42c2-84ed-72699d10e0a1",
   "metadata": {},
   "outputs": [],
   "source": [
    "punctuation = set(string.punctuation)"
   ]
  },
  {
   "cell_type": "code",
   "execution_count": 43,
   "id": "ce303e52-d86b-4898-99bd-e5f03d3706ec",
   "metadata": {},
   "outputs": [],
   "source": [
    "g = (lambda x: x if x not in punctuation else '')\n",
    "def delete_punctuation(sentence):\n",
    "    words = sentence.split()\n",
    "    result = []\n",
    "    for word in words:\n",
    "        new_word = [g(letter) for letter in word]\n",
    "        result.append(''.join(new_word))\n",
    "    return ' '.join(result)"
   ]
  },
  {
   "cell_type": "code",
   "execution_count": 30,
   "id": "f2fc796c-34b4-4043-b71e-8b34466ccfc1",
   "metadata": {},
   "outputs": [],
   "source": [
    "book_reviews['review_text'] = book_reviews['review_text'].apply(delete_punctuation)"
   ]
  },
  {
   "cell_type": "code",
   "execution_count": 31,
   "id": "f47dac33-afea-43cc-b67e-eceadb4b256d",
   "metadata": {},
   "outputs": [
    {
     "data": {
      "text/html": [
       "<div>\n",
       "<style scoped>\n",
       "    .dataframe tbody tr th:only-of-type {\n",
       "        vertical-align: middle;\n",
       "    }\n",
       "\n",
       "    .dataframe tbody tr th {\n",
       "        vertical-align: top;\n",
       "    }\n",
       "\n",
       "    .dataframe thead th {\n",
       "        text-align: right;\n",
       "    }\n",
       "</style>\n",
       "<table border=\"1\" class=\"dataframe\">\n",
       "  <thead>\n",
       "    <tr style=\"text-align: right;\">\n",
       "      <th></th>\n",
       "      <th>user_id</th>\n",
       "      <th>book_id</th>\n",
       "      <th>review_id</th>\n",
       "      <th>rating</th>\n",
       "      <th>review_text</th>\n",
       "      <th>date_added</th>\n",
       "      <th>date_updated</th>\n",
       "      <th>read_at</th>\n",
       "      <th>started_at</th>\n",
       "      <th>n_votes</th>\n",
       "      <th>n_comments</th>\n",
       "    </tr>\n",
       "  </thead>\n",
       "  <tbody>\n",
       "    <tr>\n",
       "      <th>0</th>\n",
       "      <td>8842281e1d1347389f2ab93d60773d4d</td>\n",
       "      <td>18245960</td>\n",
       "      <td>dfdbb7b0eb5a7e4c26d59a937e2e5feb</td>\n",
       "      <td>5</td>\n",
       "      <td>this is a special book it started slow for abo...</td>\n",
       "      <td>Sun Jul 30 07:44:10 -0700 2017</td>\n",
       "      <td>Wed Aug 30 00:00:26 -0700 2017</td>\n",
       "      <td>Sat Aug 26 12:05:52 -0700 2017</td>\n",
       "      <td>Tue Aug 15 13:23:18 -0700 2017</td>\n",
       "      <td>28</td>\n",
       "      <td>1</td>\n",
       "    </tr>\n",
       "    <tr>\n",
       "      <th>1</th>\n",
       "      <td>8842281e1d1347389f2ab93d60773d4d</td>\n",
       "      <td>16981</td>\n",
       "      <td>a5d2c3628987712d0e05c4f90798eb67</td>\n",
       "      <td>3</td>\n",
       "      <td>recommended by don katz avail for free in dece...</td>\n",
       "      <td>Mon Dec 05 10:46:44 -0800 2016</td>\n",
       "      <td>Wed Mar 22 11:37:04 -0700 2017</td>\n",
       "      <td></td>\n",
       "      <td></td>\n",
       "      <td>1</td>\n",
       "      <td>0</td>\n",
       "    </tr>\n",
       "    <tr>\n",
       "      <th>2</th>\n",
       "      <td>8842281e1d1347389f2ab93d60773d4d</td>\n",
       "      <td>28684704</td>\n",
       "      <td>2ede853b14dc4583f96cf5d120af636f</td>\n",
       "      <td>3</td>\n",
       "      <td>a fun fast paced science fiction thriller i re...</td>\n",
       "      <td>Tue Nov 15 11:29:22 -0800 2016</td>\n",
       "      <td>Mon Mar 20 23:40:27 -0700 2017</td>\n",
       "      <td>Sat Mar 18 23:22:42 -0700 2017</td>\n",
       "      <td>Fri Mar 17 23:45:40 -0700 2017</td>\n",
       "      <td>22</td>\n",
       "      <td>0</td>\n",
       "    </tr>\n",
       "    <tr>\n",
       "      <th>3</th>\n",
       "      <td>8842281e1d1347389f2ab93d60773d4d</td>\n",
       "      <td>27161156</td>\n",
       "      <td>ced5675e55cd9d38a524743f5c40996e</td>\n",
       "      <td>0</td>\n",
       "      <td>recommended reading to understand what is goin...</td>\n",
       "      <td>Wed Nov 09 17:37:04 -0800 2016</td>\n",
       "      <td>Wed Nov 09 17:38:20 -0800 2016</td>\n",
       "      <td></td>\n",
       "      <td></td>\n",
       "      <td>5</td>\n",
       "      <td>1</td>\n",
       "    </tr>\n",
       "    <tr>\n",
       "      <th>4</th>\n",
       "      <td>8842281e1d1347389f2ab93d60773d4d</td>\n",
       "      <td>25884323</td>\n",
       "      <td>332732725863131279a8e345b63ac33e</td>\n",
       "      <td>4</td>\n",
       "      <td>i really enjoyed this book and there is a lot ...</td>\n",
       "      <td>Mon Apr 25 09:31:23 -0700 2016</td>\n",
       "      <td>Mon Apr 25 09:31:23 -0700 2016</td>\n",
       "      <td>Sun Jun 26 00:00:00 -0700 2016</td>\n",
       "      <td>Sat May 28 00:00:00 -0700 2016</td>\n",
       "      <td>9</td>\n",
       "      <td>1</td>\n",
       "    </tr>\n",
       "  </tbody>\n",
       "</table>\n",
       "</div>"
      ],
      "text/plain": [
       "                            user_id   book_id  \\\n",
       "0  8842281e1d1347389f2ab93d60773d4d  18245960   \n",
       "1  8842281e1d1347389f2ab93d60773d4d     16981   \n",
       "2  8842281e1d1347389f2ab93d60773d4d  28684704   \n",
       "3  8842281e1d1347389f2ab93d60773d4d  27161156   \n",
       "4  8842281e1d1347389f2ab93d60773d4d  25884323   \n",
       "\n",
       "                          review_id  rating  \\\n",
       "0  dfdbb7b0eb5a7e4c26d59a937e2e5feb       5   \n",
       "1  a5d2c3628987712d0e05c4f90798eb67       3   \n",
       "2  2ede853b14dc4583f96cf5d120af636f       3   \n",
       "3  ced5675e55cd9d38a524743f5c40996e       0   \n",
       "4  332732725863131279a8e345b63ac33e       4   \n",
       "\n",
       "                                         review_text  \\\n",
       "0  this is a special book it started slow for abo...   \n",
       "1  recommended by don katz avail for free in dece...   \n",
       "2  a fun fast paced science fiction thriller i re...   \n",
       "3  recommended reading to understand what is goin...   \n",
       "4  i really enjoyed this book and there is a lot ...   \n",
       "\n",
       "                       date_added                    date_updated  \\\n",
       "0  Sun Jul 30 07:44:10 -0700 2017  Wed Aug 30 00:00:26 -0700 2017   \n",
       "1  Mon Dec 05 10:46:44 -0800 2016  Wed Mar 22 11:37:04 -0700 2017   \n",
       "2  Tue Nov 15 11:29:22 -0800 2016  Mon Mar 20 23:40:27 -0700 2017   \n",
       "3  Wed Nov 09 17:37:04 -0800 2016  Wed Nov 09 17:38:20 -0800 2016   \n",
       "4  Mon Apr 25 09:31:23 -0700 2016  Mon Apr 25 09:31:23 -0700 2016   \n",
       "\n",
       "                          read_at                      started_at  n_votes  \\\n",
       "0  Sat Aug 26 12:05:52 -0700 2017  Tue Aug 15 13:23:18 -0700 2017       28   \n",
       "1                                                                        1   \n",
       "2  Sat Mar 18 23:22:42 -0700 2017  Fri Mar 17 23:45:40 -0700 2017       22   \n",
       "3                                                                        5   \n",
       "4  Sun Jun 26 00:00:00 -0700 2016  Sat May 28 00:00:00 -0700 2016        9   \n",
       "\n",
       "   n_comments  \n",
       "0           1  \n",
       "1           0  \n",
       "2           0  \n",
       "3           1  \n",
       "4           1  "
      ]
     },
     "execution_count": 31,
     "metadata": {},
     "output_type": "execute_result"
    }
   ],
   "source": [
    "book_reviews.head()"
   ]
  },
  {
   "cell_type": "markdown",
   "id": "2dcd1889-23a0-4b55-aae8-bd2d9b402927",
   "metadata": {},
   "source": [
    "Stemming each word in the sentence:"
   ]
  },
  {
   "cell_type": "code",
   "execution_count": 32,
   "id": "d31c355c-66eb-45b1-97e5-166bfe24a105",
   "metadata": {},
   "outputs": [],
   "source": [
    "# stemmer = PorterStemmer()\n",
    "\n",
    "# def stem_sentences(sentence):\n",
    "#     tokens = sentence.split()\n",
    "#     stemmed_tokens = [stemmer.stem(token) for token in tokens]\n",
    "#     return ' '.join(stemmed_tokens)"
   ]
  },
  {
   "cell_type": "code",
   "execution_count": 33,
   "id": "863c8b6c-8e6d-4a8f-93c0-600307acef3a",
   "metadata": {},
   "outputs": [],
   "source": [
    "# poetry_reviews['review_text'].apply(stem_sentences)"
   ]
  },
  {
   "cell_type": "markdown",
   "id": "92834700-6b7a-44f2-8d5c-1ef65d223f66",
   "metadata": {},
   "source": [
    "Removing stopwords and lemmatizing words"
   ]
  },
  {
   "cell_type": "code",
   "execution_count": 44,
   "id": "d4d4158c-0f4e-4aa2-90ac-60d6b4166fef",
   "metadata": {},
   "outputs": [],
   "source": [
    "import nltk\n",
    "from nltk.corpus import stopwords\n",
    "from nltk.stem import WordNetLemmatizer\n",
    "\n",
    "stopwords_list = stopwords.words('english')\n",
    "     \n",
    "def remove_stopwords(sentence):\n",
    "    tokens = sentence.split()\n",
    "    \n",
    "    filtered_tokens = [token for token in tokens if token not in stopwords_list]\n",
    "    \n",
    "    return ' '.join(filtered_tokens)\n",
    "\n",
    "def lemmatize_text(sentence):\n",
    "    tokens = sentence.split()\n",
    "\n",
    "    lemmatizer = WordNetLemmatizer()\n",
    "    lemmatized_tokens = [lemmatizer.lemmatize(token) for token in tokens]\n",
    "    \n",
    "    processed_text = ' '.join(lemmatized_tokens)\n",
    "    return processed_text\n",
    "    "
   ]
  },
  {
   "cell_type": "code",
   "execution_count": 35,
   "id": "34ac64e4-5948-4206-a356-fef53f3a4323",
   "metadata": {},
   "outputs": [],
   "source": [
    "book_reviews['review_text'] = book_reviews['review_text'].apply(remove_stopwords)"
   ]
  },
  {
   "cell_type": "code",
   "execution_count": 36,
   "id": "bf4b478b-de13-4612-802c-17d0ea62f89a",
   "metadata": {},
   "outputs": [],
   "source": [
    "book_reviews['review_text'] = book_reviews['review_text'].apply(lemmatize_text)"
   ]
  },
  {
   "cell_type": "markdown",
   "id": "b9ae002a-85d6-4826-8557-e17bde7fd37b",
   "metadata": {},
   "source": [
    "## Exploratory Data Analysis"
   ]
  },
  {
   "cell_type": "markdown",
   "id": "c491ccee-ebd8-4135-8b25-c8feeeafc31e",
   "metadata": {},
   "source": [
    "### Word Counts"
   ]
  },
  {
   "cell_type": "code",
   "execution_count": 37,
   "id": "455a808f-6f31-439c-8ae3-8c330541ae9c",
   "metadata": {},
   "outputs": [
    {
     "data": {
      "text/plain": [
       "151781"
      ]
     },
     "execution_count": 37,
     "metadata": {},
     "output_type": "execute_result"
    }
   ],
   "source": [
    "word_count = defaultdict(int)\n",
    "for d in book_reviews['review_text']:\n",
    "    for w in d.split():\n",
    "        word_count[w] += 1\n",
    "\n",
    "len(word_count)"
   ]
  },
  {
   "cell_type": "code",
   "execution_count": 38,
   "id": "2f2675aa-5bf1-4af9-ba14-53b7ed39889a",
   "metadata": {},
   "outputs": [
    {
     "data": {
      "text/plain": [
       "151781"
      ]
     },
     "execution_count": 38,
     "metadata": {},
     "output_type": "execute_result"
    }
   ],
   "source": [
    "word_count = defaultdict(int)\n",
    "punctuation = set(string.punctuation)\n",
    "for d in book_reviews['review_text']:\n",
    "    r = ''.join([c for c in d.lower() if not c in punctuation])\n",
    "    for w in r.split():\n",
    "        word_count[w] += 1\n",
    "\n",
    "len(word_count)"
   ]
  },
  {
   "cell_type": "code",
   "execution_count": 39,
   "id": "32e45d21-f553-48fe-a16e-f8245d789e02",
   "metadata": {},
   "outputs": [
    {
     "data": {
      "text/plain": [
       "123706"
      ]
     },
     "execution_count": 39,
     "metadata": {},
     "output_type": "execute_result"
    }
   ],
   "source": [
    "word_count = defaultdict(int)\n",
    "punctuation = set(string.punctuation)\n",
    "stemmer = PorterStemmer()\n",
    "for d in book_reviews['review_text']:\n",
    "  r = ''.join([c for c in d.lower() if not c in punctuation])\n",
    "  for w in r.split():\n",
    "    w = stemmer.stem(w)\n",
    "    word_count[w] += 1\n",
    "    \n",
    "len(word_count)"
   ]
  },
  {
   "cell_type": "code",
   "execution_count": 40,
   "id": "ea69c931-65bf-43f2-8ab7-d6e324e41ee5",
   "metadata": {},
   "outputs": [],
   "source": [
    "word_count = defaultdict(int)\n",
    "punctuation = set(string.punctuation)\n",
    "for d in book_reviews['review_text']:\n",
    "  r = ''.join([c for c in d.lower() if not c in punctuation])\n",
    "  for w in r.split():\n",
    "    word_count[w] += 1\n",
    "\n",
    "counts = [(word_count[w], w) for w in word_count]\n",
    "counts.sort()\n",
    "counts.reverse()"
   ]
  },
  {
   "cell_type": "code",
   "execution_count": 41,
   "id": "8354b2a3-160c-4844-80f0-7a444a25b4af",
   "metadata": {},
   "outputs": [
    {
     "data": {
      "text/plain": [
       "['book', 'story', 'read', 'like', 'one']"
      ]
     },
     "execution_count": 41,
     "metadata": {},
     "output_type": "execute_result"
    }
   ],
   "source": [
    "words = [x[1] for x in counts[:1000]]\n",
    "words[0:5]"
   ]
  },
  {
   "cell_type": "code",
   "execution_count": 42,
   "id": "77c69e3f-a73c-47e9-b412-8e0f774b91b0",
   "metadata": {},
   "outputs": [
    {
     "data": {
      "text/html": [
       "<div>\n",
       "<style scoped>\n",
       "    .dataframe tbody tr th:only-of-type {\n",
       "        vertical-align: middle;\n",
       "    }\n",
       "\n",
       "    .dataframe tbody tr th {\n",
       "        vertical-align: top;\n",
       "    }\n",
       "\n",
       "    .dataframe thead th {\n",
       "        text-align: right;\n",
       "    }\n",
       "</style>\n",
       "<table border=\"1\" class=\"dataframe\">\n",
       "  <thead>\n",
       "    <tr style=\"text-align: right;\">\n",
       "      <th></th>\n",
       "      <th>book_id</th>\n",
       "      <th>rating</th>\n",
       "      <th>n_votes</th>\n",
       "      <th>n_comments</th>\n",
       "    </tr>\n",
       "  </thead>\n",
       "  <tbody>\n",
       "    <tr>\n",
       "      <th>count</th>\n",
       "      <td>1.000010e+05</td>\n",
       "      <td>100001.000000</td>\n",
       "      <td>100001.000000</td>\n",
       "      <td>100001.000000</td>\n",
       "    </tr>\n",
       "    <tr>\n",
       "      <th>mean</th>\n",
       "      <td>1.339650e+07</td>\n",
       "      <td>3.725493</td>\n",
       "      <td>2.853341</td>\n",
       "      <td>0.953640</td>\n",
       "    </tr>\n",
       "    <tr>\n",
       "      <th>std</th>\n",
       "      <td>9.204343e+06</td>\n",
       "      <td>1.234081</td>\n",
       "      <td>12.840693</td>\n",
       "      <td>4.834392</td>\n",
       "    </tr>\n",
       "    <tr>\n",
       "      <th>min</th>\n",
       "      <td>1.000000e+00</td>\n",
       "      <td>0.000000</td>\n",
       "      <td>-2.000000</td>\n",
       "      <td>-1.000000</td>\n",
       "    </tr>\n",
       "    <tr>\n",
       "      <th>25%</th>\n",
       "      <td>6.339664e+06</td>\n",
       "      <td>3.000000</td>\n",
       "      <td>0.000000</td>\n",
       "      <td>0.000000</td>\n",
       "    </tr>\n",
       "    <tr>\n",
       "      <th>50%</th>\n",
       "      <td>1.354982e+07</td>\n",
       "      <td>4.000000</td>\n",
       "      <td>0.000000</td>\n",
       "      <td>0.000000</td>\n",
       "    </tr>\n",
       "    <tr>\n",
       "      <th>75%</th>\n",
       "      <td>1.935898e+07</td>\n",
       "      <td>5.000000</td>\n",
       "      <td>2.000000</td>\n",
       "      <td>0.000000</td>\n",
       "    </tr>\n",
       "    <tr>\n",
       "      <th>max</th>\n",
       "      <td>3.632868e+07</td>\n",
       "      <td>5.000000</td>\n",
       "      <td>931.000000</td>\n",
       "      <td>564.000000</td>\n",
       "    </tr>\n",
       "  </tbody>\n",
       "</table>\n",
       "</div>"
      ],
      "text/plain": [
       "            book_id         rating        n_votes     n_comments\n",
       "count  1.000010e+05  100001.000000  100001.000000  100001.000000\n",
       "mean   1.339650e+07       3.725493       2.853341       0.953640\n",
       "std    9.204343e+06       1.234081      12.840693       4.834392\n",
       "min    1.000000e+00       0.000000      -2.000000      -1.000000\n",
       "25%    6.339664e+06       3.000000       0.000000       0.000000\n",
       "50%    1.354982e+07       4.000000       0.000000       0.000000\n",
       "75%    1.935898e+07       5.000000       2.000000       0.000000\n",
       "max    3.632868e+07       5.000000     931.000000     564.000000"
      ]
     },
     "execution_count": 42,
     "metadata": {},
     "output_type": "execute_result"
    }
   ],
   "source": [
    "book_reviews.describe()"
   ]
  },
  {
   "cell_type": "code",
   "execution_count": 43,
   "id": "f888e59b-4622-4b9a-8a91-4c5ed9c2452d",
   "metadata": {},
   "outputs": [
    {
     "data": {
      "text/plain": [
       "Text(0.5, 9.444444444444438, 'Rating')"
      ]
     },
     "execution_count": 43,
     "metadata": {},
     "output_type": "execute_result"
    },
    {
     "data": {
      "image/png": "[encoded data removed]",
      "text/plain": [
       "<Figure size 500x500 with 1 Axes>"
      ]
     },
     "metadata": {},
     "output_type": "display_data"
    }
   ],
   "source": [
    "sns.displot(book_reviews, x = 'rating')\n",
    "plt.title('Rating Count')\n",
    "plt.xlabel('Rating')"
   ]
  },
  {
   "cell_type": "markdown",
   "id": "ff4bf482-c67b-46d2-bc1c-6a776a077ec5",
   "metadata": {},
   "source": [
    "### Word Clouds"
   ]
  },
  {
   "cell_type": "code",
   "execution_count": 45,
   "id": "15700455-c8de-4d4c-996b-fa6fb08bb329",
   "metadata": {},
   "outputs": [],
   "source": [
    "from wordcloud import WordCloud, STOPWORDS"
   ]
  },
  {
   "cell_type": "code",
   "execution_count": 46,
   "id": "17825689-9be5-4f5a-983e-29a5c65db3c7",
   "metadata": {},
   "outputs": [],
   "source": [
    "text = \" \".join(review for review in book_reviews['review_text'])"
   ]
  },
  {
   "cell_type": "code",
   "execution_count": 47,
   "id": "391c4408-3187-4fc2-9298-991339e6c916",
   "metadata": {},
   "outputs": [],
   "source": [
    "wordcloud = WordCloud(background_color = 'white').generate(text)"
   ]
  },
  {
   "cell_type": "code",
   "execution_count": 48,
   "id": "54f624ba-b23f-4f03-9b79-6a8a773749d6",
   "metadata": {},
   "outputs": [
    {
     "data": {
      "image/png": "[encoded data removed]",
      "text/plain": [
       "<Figure size 640x480 with 1 Axes>"
      ]
     },
     "metadata": {},
     "output_type": "display_data"
    }
   ],
   "source": [
    "plt.imshow(wordcloud, interpolation='bilinear')\n",
    "plt.axis(\"off\")\n",
    "plt.show()"
   ]
  },
  {
   "cell_type": "markdown",
   "id": "f0ef11da-cbf8-403d-82ca-34e9965af96d",
   "metadata": {},
   "source": [
    "Removing stopwords (words that bring essentially no meaning)"
   ]
  },
  {
   "cell_type": "code",
   "execution_count": 49,
   "id": "7be74b3d-a7b3-4dbf-8f66-e882cc314a1c",
   "metadata": {},
   "outputs": [
    {
     "data": {
      "image/png": "[encoded data removed]",
      "text/plain": [
       "<Figure size 640x480 with 1 Axes>"
      ]
     },
     "metadata": {},
     "output_type": "display_data"
    }
   ],
   "source": [
    "stopwords = set(STOPWORDS)\n",
    "stopwords.update([\"story\", \"read\", \"book\", \"one\", \"wa\", \"ha\", \"character\"])\n",
    "wordcloud2 = WordCloud(stopwords = stopwords, background_color = 'white').generate(text)\n",
    "plt.imshow(wordcloud2, interpolation='bilinear')\n",
    "plt.axis(\"off\")\n",
    "plt.show()"
   ]
  },
  {
   "cell_type": "markdown",
   "id": "9bb29b8e-e559-43c4-ac4f-ebf59426c047",
   "metadata": {},
   "source": [
    "## Sentiment Analysis"
   ]
  },
  {
   "cell_type": "code",
   "execution_count": 50,
   "id": "fd71d5cc-b047-44ae-98e2-b7a996af0d37",
   "metadata": {},
   "outputs": [],
   "source": [
    "word_id = dict(zip(words, range(len(words))))\n",
    "word_set = set(words)"
   ]
  },
  {
   "cell_type": "code",
   "execution_count": 51,
   "id": "2caf1e89-07a6-4b93-99bd-8d68ab37254a",
   "metadata": {},
   "outputs": [],
   "source": [
    "def feature(datum):\n",
    "    feat = [0]*len(words)\n",
    "    r = ''.join([c for c in datum.lower() if not c in punctuation])\n",
    "    for w in r.split():\n",
    "        if w in words:\n",
    "            feat[word_id[w]] += 1\n",
    "    feat.append(1) # offset\n",
    "    return feat"
   ]
  },
  {
   "cell_type": "code",
   "execution_count": 52,
   "id": "75239dab-263c-4003-babd-a44f04762fdb",
   "metadata": {},
   "outputs": [],
   "source": [
    "X = [feature(d) for d in book_reviews['review_text']]\n",
    "y = book_reviews['rating']"
   ]
  },
  {
   "cell_type": "code",
   "execution_count": 53,
   "id": "f86288f0-3fce-43c7-907b-448eb78f5bb2",
   "metadata": {},
   "outputs": [],
   "source": [
    "# Regularized regression\n",
    "clf = linear_model.Ridge(1.0, fit_intercept=False) # MSE + 1.0 l2\n",
    "clf.fit(X, y)\n",
    "theta = clf.coef_\n",
    "predictions = clf.predict(X)"
   ]
  },
  {
   "cell_type": "code",
   "execution_count": 54,
   "id": "5a01f4d2-358b-455f-a84e-62698138ad4f",
   "metadata": {},
   "outputs": [
    {
     "data": {
      "text/plain": [
       "[(0.12891849183186493, 'fantastic'),\n",
       " (0.13130705567161882, 'surprised'),\n",
       " (0.13323316851839304, 'loved'),\n",
       " (0.13685895738330667, 'brilliant'),\n",
       " (0.14169588401313554, 'wonderful'),\n",
       " (0.14298179774423353, 'beautifully'),\n",
       " (0.14412483643286464, 'refreshing'),\n",
       " (0.14465033888814205, 'favorite'),\n",
       " (0.14515456040865599, 'awesome'),\n",
       " (0.14694189443553277, 'glad'),\n",
       " (0.1566126110633117, 'heartbreaking'),\n",
       " (0.15872576445790887, 'hooked'),\n",
       " (0.1753607625792974, 'amazing'),\n",
       " (0.18828122151566945, 'wait'),\n",
       " (0.20908244460483139, 'cried'),\n",
       " (0.2120945045336525, '5'),\n",
       " (0.2186135023988242, 'excellent'),\n",
       " (0.23377025292405065, 'wow'),\n",
       " (0.245063423413414, 'reread'),\n",
       " (0.28541351889286587, '45')]"
      ]
     },
     "execution_count": 54,
     "metadata": {},
     "output_type": "execute_result"
    }
   ],
   "source": [
    "pos_word = list(zip(theta[:-1], words))\n",
    "pos_word.sort()\n",
    "pos_word[-20:]"
   ]
  },
  {
   "cell_type": "code",
   "execution_count": 55,
   "id": "0486054d-88ec-4a39-9066-750c6469373e",
   "metadata": {},
   "outputs": [
    {
     "data": {
      "text/plain": [
       "[(-0.36371353213533997, '25'),\n",
       " (-0.32460481675694486, 'boring'),\n",
       " (-0.2904012090174302, 'flat'),\n",
       " (-0.2825960653289562, 'bored'),\n",
       " (-0.27153401677677846, 'finish'),\n",
       " (-0.2594216185411777, 'tried'),\n",
       " (-0.241989472316308, 'unfortunately'),\n",
       " (-0.20949566936448105, 'awful'),\n",
       " (-0.20729432247812749, 'ridiculous'),\n",
       " (-0.19822147735008144, 'premise'),\n",
       " (-0.19497532416798985, 'worst'),\n",
       " (-0.18311283752076804, 'potential'),\n",
       " (-0.18177556868309117, 'connect'),\n",
       " (-0.165113168258285, 'disappointed'),\n",
       " (-0.16095438536002715, 'rating'),\n",
       " (-0.16093463432361582, 'predictable'),\n",
       " (-0.15146504993652618, 'anymore'),\n",
       " (-0.14879919061768007, 'taste'),\n",
       " (-0.14776486239631917, 'sorry'),\n",
       " (-0.13817744228967638, 'netgalley')]"
      ]
     },
     "execution_count": 55,
     "metadata": {},
     "output_type": "execute_result"
    }
   ],
   "source": [
    "neg_word = list(zip(theta[:-1], words))\n",
    "neg_word.sort()\n",
    "neg_word[:20]"
   ]
  },
  {
   "cell_type": "markdown",
   "id": "6ea20424-44b2-4d7c-acad-56e206aa25c9",
   "metadata": {},
   "source": [
    "### N-grams"
   ]
  },
  {
   "cell_type": "code",
   "execution_count": 56,
   "id": "d50daf2c-e09b-4462-bfcd-230721320f4d",
   "metadata": {},
   "outputs": [],
   "source": [
    "def feature2(datum):\n",
    "    feat = [0]*len(words)\n",
    "    r = ''.join([c for c in datum.lower() if not c in punctuation])\n",
    "    ws = r.split()\n",
    "    ws2 = [' '.join(x) for x in list(zip(ws[:-1],ws[1:]))]\n",
    "    ws3 = [' '.join(x) for x in list(zip(ws[:-2],ws[1:-1],ws[2:]))]\n",
    "    ws4 = [' '.join(x) for x in list(zip(ws[:-3],ws[1:-2],ws[2:-1],ws[3:]))]\n",
    "    ws5 = [' '.join(x) for x in list(zip(ws[:-4],ws[1:-3],ws[2:-2],ws[3:-1],ws[4:]))]\n",
    "    for w in ws + ws2 + ws3 + ws4 + ws5:\n",
    "        if w in words:\n",
    "            feat[word_id[w]] += 1\n",
    "    feat.append(1) #offset\n",
    "    return feat"
   ]
  },
  {
   "cell_type": "code",
   "execution_count": 57,
   "id": "90ffce30-a3fe-4abf-8139-9bcc455a3f2b",
   "metadata": {},
   "outputs": [],
   "source": [
    "# X = [feature2(d) for d in book_reviews['review_text']]\n",
    "# y = book_reviews['rating']"
   ]
  },
  {
   "cell_type": "code",
   "execution_count": 58,
   "id": "49e989a4-d8ac-41a0-b36b-be949378a10f",
   "metadata": {},
   "outputs": [],
   "source": [
    "# clf = linear_model.Ridge(1.0, fit_intercept=False) # MSE + 1.0 l2\n",
    "# clf.fit(X, y)\n",
    "# theta = clf.coef_\n",
    "# predictions = clf.predict(X)"
   ]
  },
  {
   "cell_type": "code",
   "execution_count": 59,
   "id": "eb06d6f4-b311-4303-9c1a-ca55a4300b47",
   "metadata": {},
   "outputs": [
    {
     "data": {
      "text/plain": [
       "[(0.12891849183186493, 'fantastic'),\n",
       " (0.13130705567161882, 'surprised'),\n",
       " (0.13323316851839304, 'loved'),\n",
       " (0.13685895738330667, 'brilliant'),\n",
       " (0.14169588401313554, 'wonderful'),\n",
       " (0.14298179774423353, 'beautifully'),\n",
       " (0.14412483643286464, 'refreshing'),\n",
       " (0.14465033888814205, 'favorite'),\n",
       " (0.14515456040865599, 'awesome'),\n",
       " (0.14694189443553277, 'glad'),\n",
       " (0.1566126110633117, 'heartbreaking'),\n",
       " (0.15872576445790887, 'hooked'),\n",
       " (0.1753607625792974, 'amazing'),\n",
       " (0.18828122151566945, 'wait'),\n",
       " (0.20908244460483139, 'cried'),\n",
       " (0.2120945045336525, '5'),\n",
       " (0.2186135023988242, 'excellent'),\n",
       " (0.23377025292405065, 'wow'),\n",
       " (0.245063423413414, 'reread'),\n",
       " (0.28541351889286587, '45')]"
      ]
     },
     "execution_count": 59,
     "metadata": {},
     "output_type": "execute_result"
    }
   ],
   "source": [
    "# pos_word = list(zip(theta[:-1], words))\n",
    "# pos_word.sort()\n",
    "# pos_word[-20:]"
   ]
  },
  {
   "cell_type": "markdown",
   "id": "347d7806-6e5e-48d6-afe0-67fa2c345010",
   "metadata": {},
   "source": [
    "## TF-IDF"
   ]
  },
  {
   "cell_type": "markdown",
   "id": "9c768a2c-6314-40f5-877a-79978f5361ee",
   "metadata": {},
   "source": [
    "Example Review"
   ]
  },
  {
   "cell_type": "code",
   "execution_count": 60,
   "id": "a9855acc-37f7-444a-8b35-8fc1894505a0",
   "metadata": {},
   "outputs": [
    {
     "data": {
      "text/plain": [
       "'another hard put nonfiction book erik larson really enjoyed book mostly learn submarine warfare wwi also learn history time america entered war importance shipping england ruthlessness autonomy german uboat commander larson also great job layering interesting historical info though overdid little bit one drama story lusitania larson focus british wanted lusitania sunk help draw america war conclusion seems case though isnt conclusive evidence lusitania sank american died war hundred american boat sank definitely helped change america attitude even took 2 year sank america troop arrive likely explanation indeed plot however imperfect endanger lusitania order involve united state war favorite detail book simply took navigate uboat ww1 instance day sonar submarine traveled utterly blind trusting entirely accuracy sea chart one great fear uboat men halfsunk derelict uncharted rock might lie path crazy plus torpedo weigh 3 thousand pound boat could carry 7 failure rate something like 60 also limited fuel operated battery submerged could stay underwater limited amount time given trying operate uboat sink boat pretty dangerous sounding game chess certainly effect war one point britain estimated would surrender 3 month didnt get supply lot interesting detail era larson wove interesting well stuff like fact ouija board commonplace american household straw hat day main critique many irrelevant detail various passenger happened day boat left dock stuff like felt bit padded respect overall great read'"
      ]
     },
     "execution_count": 60,
     "metadata": {},
     "output_type": "execute_result"
    }
   ],
   "source": [
    "example = book_reviews['review_text'][8]\n",
    "example"
   ]
  },
  {
   "cell_type": "markdown",
   "id": "4cad577e-3ff1-434b-bea3-0c00c86067b1",
   "metadata": {},
   "source": [
    "Document Frequency"
   ]
  },
  {
   "cell_type": "code",
   "execution_count": 61,
   "id": "2cfd7182-aad1-4aeb-91cb-e5494f09c68f",
   "metadata": {},
   "outputs": [],
   "source": [
    "df = defaultdict(int)\n",
    "for d in book_reviews['review_text']:\n",
    "    r = ''.join([c for c in d.lower() if not c in punctuation])\n",
    "    for w in set(r.split()):\n",
    "        df[w] += 1"
   ]
  },
  {
   "cell_type": "markdown",
   "id": "28567747-2748-4748-8930-e89b01c0da00",
   "metadata": {},
   "source": [
    "Term Frequency"
   ]
  },
  {
   "cell_type": "code",
   "execution_count": 62,
   "id": "4d117801-e973-4e71-9612-2650e52f9ea5",
   "metadata": {},
   "outputs": [],
   "source": [
    "import math\n",
    "\n",
    "tf = defaultdict(int)\n",
    "r = ''.join([c for c in example.lower() if not c in punctuation])\n",
    "for w in r.split():\n",
    "    # Note = rather than +=, different versions of tf could be used instead\n",
    "    tf[w] = 1\n",
    "    \n",
    "tfidf = dict(zip(words,[tf[w] * math.log2(len(book_reviews) / df[w]) for w in words]))\n",
    "tfidfQuery = [tf[w] * math.log2(len(book_reviews) / df[w]) for w in words]"
   ]
  },
  {
   "cell_type": "code",
   "execution_count": 63,
   "id": "900581a9-c406-473f-b40f-67e14c34dcc7",
   "metadata": {},
   "outputs": [
    {
     "data": {
      "text/plain": [
       "[(6.786287661268851, 'america'),\n",
       " (6.360541448601358, 'american'),\n",
       " (6.28660014097344, 'dangerous'),\n",
       " (6.165675358713833, 'helped'),\n",
       " (6.14817545402893, 'state'),\n",
       " (5.902295769234204, 'historical'),\n",
       " (5.860623519274883, 'entirely'),\n",
       " (5.834867841713913, 'died'),\n",
       " (5.730071651702303, 'lie'),\n",
       " (5.613887750437285, 'conclusion')]"
      ]
     },
     "execution_count": 63,
     "metadata": {},
     "output_type": "execute_result"
    }
   ],
   "source": [
    "maxTf = [(tf[w],w) for w in words]\n",
    "maxTf.sort(reverse=True)\n",
    "maxTfIdf = [(tfidf[w],w) for w in words]\n",
    "maxTfIdf.sort(reverse=True)\n",
    "maxTfIdf[:10]"
   ]
  },
  {
   "cell_type": "markdown",
   "id": "aac3f46c-d663-4214-9076-dcf478936f39",
   "metadata": {},
   "source": [
    "Calculating cosine similarity in respect to TF-IDF results"
   ]
  },
  {
   "cell_type": "code",
   "execution_count": 64,
   "id": "a42b33e2-daad-4708-afc4-0340194e34c5",
   "metadata": {},
   "outputs": [],
   "source": [
    "def calc_cosine_similarity(x1, x2):\n",
    "    numer = 0\n",
    "    norm1 = 0\n",
    "    norm2 = 0\n",
    "    for a1,a2 in zip(x1,x2):\n",
    "        numer += a1*a2\n",
    "        norm1 += a1**2\n",
    "        norm2 += a2**2\n",
    "    if norm1*norm2:\n",
    "        return numer / math.sqrt(norm1*norm2)\n",
    "    return 0"
   ]
  },
  {
   "cell_type": "code",
   "execution_count": 65,
   "id": "2d989357-8fa9-46c7-9ef9-07137fc03970",
   "metadata": {},
   "outputs": [],
   "source": [
    "similarities = []\n",
    "for review in book_reviews['review_text']:\n",
    "    tf = defaultdict(int)\n",
    "    r = ''.join([c for c in review.lower() if not c in punctuation])\n",
    "    for w in r.split():\n",
    "        tf[w] = 1\n",
    "    tfidf2 = [tf[w] * math.log2(len(book_reviews) / df[w]) for w in words]\n",
    "    similarities.append((calc_cosine_similarity(tfidfQuery, tfidf2), review))"
   ]
  },
  {
   "cell_type": "code",
   "execution_count": 66,
   "id": "7c94f39a-53f2-4345-94cf-af0c92324554",
   "metadata": {},
   "outputs": [
    {
     "data": {
      "text/plain": [
       "[(0.3002954161475833,\n",
       "  'think main reason took long get story fact two book read directly one comical really hard transferring back drama heartache pain nevertheless lovely book lovely story book would definitely recommend really liked historical retellings mostly never knew much irish history united state course knew faced lot heartache native american tale knew full tragedy picture became clearer much pronounced head thank christina'),\n",
       " (0.28992614603060224,\n",
       "  'ive wanting read book month always already checked library finally wasnt able read definitely youngadult also quick read must honest looked lot negative review worried especially controversy also snooped curiosity must say cant agree aspect really book go good book thought worth read likely finish reading series plot book reminded much bachelor like bachelor great television book literature bad story really enjoyed saw complaint teenaged character awkward think normal teenager people relationship seem awkward time plus situation prince trying pick wife 36 woman whatever number find america realistic character though also think shes cheating prince aspen call question moral character doesnt seem fit impression shes self righteous doesnt fit certainly see difficult situation love triangle bit contrived hadnt ended guard castle guess wouldnt story think representation girl play together good fact wish ca would developed relationship girl society hard could good issue tackle commenters mentioned left wanting country background get way everyone war boundary north south take place future united state american would given context political situation dangerous prince even need go selection find wife however confident keep reading book ca shed light history')]"
      ]
     },
     "execution_count": 66,
     "metadata": {},
     "output_type": "execute_result"
    }
   ],
   "source": [
    "similarities.sort(reverse=True)\n",
    "similarities[1:3]"
   ]
  },
  {
   "cell_type": "markdown",
   "id": "960e63b3-de1e-47f0-b969-a7fc9791dbd7",
   "metadata": {},
   "source": [
    "### Book Recommendation through TF-IDF"
   ]
  },
  {
   "cell_type": "code",
   "execution_count": 2,
   "id": "84fe0b00-9d9b-4dad-994b-f610035bdd76",
   "metadata": {},
   "outputs": [],
   "source": [
    "from sklearn.feature_extraction.text import TfidfVectorizer\n",
    "from sklearn.metrics.pairwise import cosine_similarity\n",
    "#tfidf = TfidfVectorizer(min_df = 2, max_df = 0.7, max_features = 1000)\n",
    "tfidf = TfidfVectorizer(min_df = 2, max_df = 0.7, max_features = 1000)"
   ]
  },
  {
   "cell_type": "code",
   "execution_count": 10,
   "id": "b1f110ae-cb75-4013-95a3-30b4b52c8daa",
   "metadata": {},
   "outputs": [],
   "source": [
    "all_embeddings.dropna(subset=['review_text'], inplace=True)"
   ]
  },
  {
   "cell_type": "code",
   "execution_count": 11,
   "id": "eb99ee75-2634-46c4-ba41-ce24ad1a6fdf",
   "metadata": {},
   "outputs": [],
   "source": [
    "X = tfidf.fit_transform(all_embeddings['review_text'])"
   ]
  },
  {
   "cell_type": "code",
   "execution_count": 12,
   "id": "77f47116-3e67-425c-82e1-57fc0f3a1e33",
   "metadata": {},
   "outputs": [],
   "source": [
    "tfidf_df = pd.DataFrame(X.toarray())"
   ]
  },
  {
   "cell_type": "code",
   "execution_count": 13,
   "id": "7efabbb5-bfd0-42b6-898c-5db9ce146d6e",
   "metadata": {},
   "outputs": [],
   "source": [
    "tfidf_df.index = all_embeddings['title_without_series']"
   ]
  },
  {
   "cell_type": "code",
   "execution_count": 14,
   "id": "b5e9ddab-c6e2-4758-bc48-1308c0a59630",
   "metadata": {},
   "outputs": [],
   "source": [
    "tfidf_df = tfidf_df.groupby('title_without_series').mean()"
   ]
  },
  {
   "cell_type": "code",
   "execution_count": 15,
   "id": "94471ffd-7a70-4516-9209-e24adc6038cf",
   "metadata": {},
   "outputs": [
    {
     "data": {
      "text/plain": [
       "(15651, 1000)"
      ]
     },
     "execution_count": 15,
     "metadata": {},
     "output_type": "execute_result"
    }
   ],
   "source": [
    "tfidf_df.shape"
   ]
  },
  {
   "cell_type": "code",
   "execution_count": 16,
   "id": "42bcfb50-23a1-4e18-9502-16e7deae4d94",
   "metadata": {},
   "outputs": [],
   "source": [
    "tfidf_df['tfidf_array'] = tfidf_df.apply(lambda row: np.array(row), axis=1)"
   ]
  },
  {
   "cell_type": "code",
   "execution_count": 17,
   "id": "a27f9031-368a-4693-a08c-6262da4dafb3",
   "metadata": {},
   "outputs": [
    {
     "data": {
      "text/html": [
       "<div>\n",
       "<style scoped>\n",
       "    .dataframe tbody tr th:only-of-type {\n",
       "        vertical-align: middle;\n",
       "    }\n",
       "\n",
       "    .dataframe tbody tr th {\n",
       "        vertical-align: top;\n",
       "    }\n",
       "\n",
       "    .dataframe thead th {\n",
       "        text-align: right;\n",
       "    }\n",
       "</style>\n",
       "<table border=\"1\" class=\"dataframe\">\n",
       "  <thead>\n",
       "    <tr style=\"text-align: right;\">\n",
       "      <th></th>\n",
       "      <th>0</th>\n",
       "      <th>1</th>\n",
       "      <th>2</th>\n",
       "      <th>3</th>\n",
       "      <th>4</th>\n",
       "      <th>5</th>\n",
       "      <th>6</th>\n",
       "      <th>7</th>\n",
       "      <th>8</th>\n",
       "      <th>9</th>\n",
       "      <th>...</th>\n",
       "      <th>991</th>\n",
       "      <th>992</th>\n",
       "      <th>993</th>\n",
       "      <th>994</th>\n",
       "      <th>995</th>\n",
       "      <th>996</th>\n",
       "      <th>997</th>\n",
       "      <th>998</th>\n",
       "      <th>999</th>\n",
       "      <th>tfidf_array</th>\n",
       "    </tr>\n",
       "    <tr>\n",
       "      <th>title_without_series</th>\n",
       "      <th></th>\n",
       "      <th></th>\n",
       "      <th></th>\n",
       "      <th></th>\n",
       "      <th></th>\n",
       "      <th></th>\n",
       "      <th></th>\n",
       "      <th></th>\n",
       "      <th></th>\n",
       "      <th></th>\n",
       "      <th></th>\n",
       "      <th></th>\n",
       "      <th></th>\n",
       "      <th></th>\n",
       "      <th></th>\n",
       "      <th></th>\n",
       "      <th></th>\n",
       "      <th></th>\n",
       "      <th></th>\n",
       "      <th></th>\n",
       "      <th></th>\n",
       "    </tr>\n",
       "  </thead>\n",
       "  <tbody>\n",
       "    <tr>\n",
       "      <th>#16thingsithoughtweretrue</th>\n",
       "      <td>0.0</td>\n",
       "      <td>0.0</td>\n",
       "      <td>0.000000</td>\n",
       "      <td>0.0</td>\n",
       "      <td>0.0</td>\n",
       "      <td>0.000000</td>\n",
       "      <td>0.038752</td>\n",
       "      <td>0.022899</td>\n",
       "      <td>0.0</td>\n",
       "      <td>0.00000</td>\n",
       "      <td>...</td>\n",
       "      <td>0.034087</td>\n",
       "      <td>0.0</td>\n",
       "      <td>0.0</td>\n",
       "      <td>0.0</td>\n",
       "      <td>0.02164</td>\n",
       "      <td>0.0</td>\n",
       "      <td>0.0</td>\n",
       "      <td>0.0</td>\n",
       "      <td>0.0</td>\n",
       "      <td>[0.0, 0.0, 0.0, 0.0, 0.0, 0.0, 0.0387517635021...</td>\n",
       "    </tr>\n",
       "    <tr>\n",
       "      <th>#Bae (Hashtag, #7)</th>\n",
       "      <td>0.0</td>\n",
       "      <td>0.0</td>\n",
       "      <td>0.000000</td>\n",
       "      <td>0.0</td>\n",
       "      <td>0.0</td>\n",
       "      <td>0.000000</td>\n",
       "      <td>0.000000</td>\n",
       "      <td>0.000000</td>\n",
       "      <td>0.0</td>\n",
       "      <td>0.00000</td>\n",
       "      <td>...</td>\n",
       "      <td>0.000000</td>\n",
       "      <td>0.0</td>\n",
       "      <td>0.0</td>\n",
       "      <td>0.0</td>\n",
       "      <td>0.00000</td>\n",
       "      <td>0.0</td>\n",
       "      <td>0.0</td>\n",
       "      <td>0.0</td>\n",
       "      <td>0.0</td>\n",
       "      <td>[0.0, 0.0, 0.0, 0.0, 0.0, 0.0, 0.0, 0.0, 0.0, ...</td>\n",
       "    </tr>\n",
       "    <tr>\n",
       "      <th>#Hater (Hashtag, #2)</th>\n",
       "      <td>0.0</td>\n",
       "      <td>0.0</td>\n",
       "      <td>0.000000</td>\n",
       "      <td>0.0</td>\n",
       "      <td>0.0</td>\n",
       "      <td>0.000000</td>\n",
       "      <td>0.142189</td>\n",
       "      <td>0.000000</td>\n",
       "      <td>0.0</td>\n",
       "      <td>0.06726</td>\n",
       "      <td>...</td>\n",
       "      <td>0.000000</td>\n",
       "      <td>0.0</td>\n",
       "      <td>0.0</td>\n",
       "      <td>0.0</td>\n",
       "      <td>0.00000</td>\n",
       "      <td>0.0</td>\n",
       "      <td>0.0</td>\n",
       "      <td>0.0</td>\n",
       "      <td>0.0</td>\n",
       "      <td>[0.0, 0.0, 0.0, 0.0, 0.0, 0.0, 0.1421894055119...</td>\n",
       "    </tr>\n",
       "    <tr>\n",
       "      <th>#Junkie (GearShark, #1)</th>\n",
       "      <td>0.0</td>\n",
       "      <td>0.0</td>\n",
       "      <td>0.059471</td>\n",
       "      <td>0.0</td>\n",
       "      <td>0.0</td>\n",
       "      <td>0.000000</td>\n",
       "      <td>0.000000</td>\n",
       "      <td>0.000000</td>\n",
       "      <td>0.0</td>\n",
       "      <td>0.00000</td>\n",
       "      <td>...</td>\n",
       "      <td>0.000000</td>\n",
       "      <td>0.0</td>\n",
       "      <td>0.0</td>\n",
       "      <td>0.0</td>\n",
       "      <td>0.00000</td>\n",
       "      <td>0.0</td>\n",
       "      <td>0.0</td>\n",
       "      <td>0.0</td>\n",
       "      <td>0.0</td>\n",
       "      <td>[0.0, 0.0, 0.0594712882911288, 0.0, 0.0, 0.0, ...</td>\n",
       "    </tr>\n",
       "    <tr>\n",
       "      <th>#Nerd (Hashtag, #1)</th>\n",
       "      <td>0.0</td>\n",
       "      <td>0.0</td>\n",
       "      <td>0.000000</td>\n",
       "      <td>0.0</td>\n",
       "      <td>0.0</td>\n",
       "      <td>0.012678</td>\n",
       "      <td>0.023839</td>\n",
       "      <td>0.000000</td>\n",
       "      <td>0.0</td>\n",
       "      <td>0.00000</td>\n",
       "      <td>...</td>\n",
       "      <td>0.009992</td>\n",
       "      <td>0.0</td>\n",
       "      <td>0.0</td>\n",
       "      <td>0.0</td>\n",
       "      <td>0.00000</td>\n",
       "      <td>0.0</td>\n",
       "      <td>0.0</td>\n",
       "      <td>0.0</td>\n",
       "      <td>0.0</td>\n",
       "      <td>[0.0, 0.0, 0.0, 0.0, 0.0, 0.012678346447683666...</td>\n",
       "    </tr>\n",
       "  </tbody>\n",
       "</table>\n",
       "<p>5 rows × 1001 columns</p>\n",
       "</div>"
      ],
      "text/plain": [
       "                             0    1         2    3    4         5         6  \\\n",
       "title_without_series                                                          \n",
       "#16thingsithoughtweretrue  0.0  0.0  0.000000  0.0  0.0  0.000000  0.038752   \n",
       "#Bae (Hashtag, #7)         0.0  0.0  0.000000  0.0  0.0  0.000000  0.000000   \n",
       "#Hater (Hashtag, #2)       0.0  0.0  0.000000  0.0  0.0  0.000000  0.142189   \n",
       "#Junkie (GearShark, #1)    0.0  0.0  0.059471  0.0  0.0  0.000000  0.000000   \n",
       "#Nerd (Hashtag, #1)        0.0  0.0  0.000000  0.0  0.0  0.012678  0.023839   \n",
       "\n",
       "                                  7    8        9  ...       991  992  993  \\\n",
       "title_without_series                               ...                       \n",
       "#16thingsithoughtweretrue  0.022899  0.0  0.00000  ...  0.034087  0.0  0.0   \n",
       "#Bae (Hashtag, #7)         0.000000  0.0  0.00000  ...  0.000000  0.0  0.0   \n",
       "#Hater (Hashtag, #2)       0.000000  0.0  0.06726  ...  0.000000  0.0  0.0   \n",
       "#Junkie (GearShark, #1)    0.000000  0.0  0.00000  ...  0.000000  0.0  0.0   \n",
       "#Nerd (Hashtag, #1)        0.000000  0.0  0.00000  ...  0.009992  0.0  0.0   \n",
       "\n",
       "                           994      995  996  997  998  999  \\\n",
       "title_without_series                                          \n",
       "#16thingsithoughtweretrue  0.0  0.02164  0.0  0.0  0.0  0.0   \n",
       "#Bae (Hashtag, #7)         0.0  0.00000  0.0  0.0  0.0  0.0   \n",
       "#Hater (Hashtag, #2)       0.0  0.00000  0.0  0.0  0.0  0.0   \n",
       "#Junkie (GearShark, #1)    0.0  0.00000  0.0  0.0  0.0  0.0   \n",
       "#Nerd (Hashtag, #1)        0.0  0.00000  0.0  0.0  0.0  0.0   \n",
       "\n",
       "                                                                 tfidf_array  \n",
       "title_without_series                                                          \n",
       "#16thingsithoughtweretrue  [0.0, 0.0, 0.0, 0.0, 0.0, 0.0, 0.0387517635021...  \n",
       "#Bae (Hashtag, #7)         [0.0, 0.0, 0.0, 0.0, 0.0, 0.0, 0.0, 0.0, 0.0, ...  \n",
       "#Hater (Hashtag, #2)       [0.0, 0.0, 0.0, 0.0, 0.0, 0.0, 0.1421894055119...  \n",
       "#Junkie (GearShark, #1)    [0.0, 0.0, 0.0594712882911288, 0.0, 0.0, 0.0, ...  \n",
       "#Nerd (Hashtag, #1)        [0.0, 0.0, 0.0, 0.0, 0.0, 0.012678346447683666...  \n",
       "\n",
       "[5 rows x 1001 columns]"
      ]
     },
     "execution_count": 17,
     "metadata": {},
     "output_type": "execute_result"
    }
   ],
   "source": [
    "tfidf_df.head()"
   ]
  },
  {
   "cell_type": "code",
   "execution_count": 90,
   "id": "dea3b40e-0a45-4add-996b-97514482f0d1",
   "metadata": {},
   "outputs": [],
   "source": [
    "def recommend_books_tfidf(user_book, tfidf_df = tfidf_df, top_n = 5):\n",
    "    user_tfidf = tfidf_df.loc[user_book]\n",
    "    other_tfidf = tfidf_df[tfidf_df.index != user_book]\n",
    "    user_tfidf.values.reshape(1, -1)\n",
    "    cos_sim = cosine_similarity(user_tfidf.values.reshape((1, -1)), other_tfidf)\n",
    "    similarity_df = pd.DataFrame(cos_sim.T, index = other_tfidf.index, columns=[\"Similarity Score\"])\n",
    "    return similarity_df.sort_values(by=\"Similarity Score\", ascending=False).head(top_n)"
   ]
  },
  {
   "cell_type": "code",
   "execution_count": 92,
   "id": "05547ee4-9d6c-4258-86db-1e75a8a547cb",
   "metadata": {},
   "outputs": [
    {
     "data": {
      "text/html": [
       "<div>\n",
       "<style scoped>\n",
       "    .dataframe tbody tr th:only-of-type {\n",
       "        vertical-align: middle;\n",
       "    }\n",
       "\n",
       "    .dataframe tbody tr th {\n",
       "        vertical-align: top;\n",
       "    }\n",
       "\n",
       "    .dataframe thead th {\n",
       "        text-align: right;\n",
       "    }\n",
       "</style>\n",
       "<table border=\"1\" class=\"dataframe\">\n",
       "  <thead>\n",
       "    <tr style=\"text-align: right;\">\n",
       "      <th></th>\n",
       "      <th>Similarity Score</th>\n",
       "    </tr>\n",
       "    <tr>\n",
       "      <th>title_without_series</th>\n",
       "      <th></th>\n",
       "    </tr>\n",
       "  </thead>\n",
       "  <tbody>\n",
       "    <tr>\n",
       "      <th>Catching Fire (The Hunger Games, #2)</th>\n",
       "      <td>0.860118</td>\n",
       "    </tr>\n",
       "    <tr>\n",
       "      <th>Mockingjay (The Hunger Games, #3)</th>\n",
       "      <td>0.835519</td>\n",
       "    </tr>\n",
       "    <tr>\n",
       "      <th>Divergent (Divergent, #1)</th>\n",
       "      <td>0.835491</td>\n",
       "    </tr>\n",
       "    <tr>\n",
       "      <th>The Maze Runner (Maze Runner, #1)</th>\n",
       "      <td>0.826838</td>\n",
       "    </tr>\n",
       "    <tr>\n",
       "      <th>Red Rising (Red Rising, #1)</th>\n",
       "      <td>0.821421</td>\n",
       "    </tr>\n",
       "  </tbody>\n",
       "</table>\n",
       "</div>"
      ],
      "text/plain": [
       "                                      Similarity Score\n",
       "title_without_series                                  \n",
       "Catching Fire (The Hunger Games, #2)          0.860118\n",
       "Mockingjay (The Hunger Games, #3)             0.835519\n",
       "Divergent (Divergent, #1)                     0.835491\n",
       "The Maze Runner (Maze Runner, #1)             0.826838\n",
       "Red Rising (Red Rising, #1)                   0.821421"
      ]
     },
     "execution_count": 92,
     "metadata": {},
     "output_type": "execute_result"
    }
   ],
   "source": [
    "recommend_books_tfidf('The Hunger Games (The Hunger Games, #1)')"
   ]
  },
  {
   "cell_type": "code",
   "execution_count": 105,
   "id": "482b1408-5374-4059-9e74-f6e17b82a4d9",
   "metadata": {},
   "outputs": [
    {
     "data": {
      "text/html": [
       "<div>\n",
       "<style scoped>\n",
       "    .dataframe tbody tr th:only-of-type {\n",
       "        vertical-align: middle;\n",
       "    }\n",
       "\n",
       "    .dataframe tbody tr th {\n",
       "        vertical-align: top;\n",
       "    }\n",
       "\n",
       "    .dataframe thead th {\n",
       "        text-align: right;\n",
       "    }\n",
       "</style>\n",
       "<table border=\"1\" class=\"dataframe\">\n",
       "  <thead>\n",
       "    <tr style=\"text-align: right;\">\n",
       "      <th></th>\n",
       "      <th>Similarity Score</th>\n",
       "    </tr>\n",
       "    <tr>\n",
       "      <th>title_without_series</th>\n",
       "      <th></th>\n",
       "    </tr>\n",
       "  </thead>\n",
       "  <tbody>\n",
       "    <tr>\n",
       "      <th>Harry Potter and the Chamber of Secrets (Harry Potter, #2)</th>\n",
       "      <td>0.862529</td>\n",
       "    </tr>\n",
       "    <tr>\n",
       "      <th>Harry Potter and the Prisoner of Azkaban (Harry Potter, #3)</th>\n",
       "      <td>0.841847</td>\n",
       "    </tr>\n",
       "    <tr>\n",
       "      <th>Harry Potter and the Deathly Hallows (Harry Potter, #7)</th>\n",
       "      <td>0.828374</td>\n",
       "    </tr>\n",
       "    <tr>\n",
       "      <th>Harry Potter and the Philosopher's Stone (Harry Potter, #1)</th>\n",
       "      <td>0.801319</td>\n",
       "    </tr>\n",
       "    <tr>\n",
       "      <th>Harry Potter and the Half-Blood Prince (Harry Potter, #6)</th>\n",
       "      <td>0.796642</td>\n",
       "    </tr>\n",
       "  </tbody>\n",
       "</table>\n",
       "</div>"
      ],
      "text/plain": [
       "                                                    Similarity Score\n",
       "title_without_series                                                \n",
       "Harry Potter and the Chamber of Secrets (Harry ...          0.862529\n",
       "Harry Potter and the Prisoner of Azkaban (Harry...          0.841847\n",
       "Harry Potter and the Deathly Hallows (Harry Pot...          0.828374\n",
       "Harry Potter and the Philosopher's Stone (Harry...          0.801319\n",
       "Harry Potter and the Half-Blood Prince (Harry P...          0.796642"
      ]
     },
     "execution_count": 105,
     "metadata": {},
     "output_type": "execute_result"
    }
   ],
   "source": [
    "recommend_books_tfidf('Harry Potter and the Sorcerer\\'s Stone (Harry Potter, #1)')"
   ]
  },
  {
   "cell_type": "code",
   "execution_count": 15,
   "id": "d164d98d-8cdf-4760-a0c8-63325cb6d9a0",
   "metadata": {},
   "outputs": [],
   "source": [
    "from yellowbrick.text import TSNEVisualizer\n",
    "from sklearn.cluster import KMeans\n",
    "tsne = TSNEVisualizer()"
   ]
  },
  {
   "cell_type": "code",
   "execution_count": 16,
   "id": "0a8f1b3d-e702-47eb-85dc-2a62149329ab",
   "metadata": {},
   "outputs": [
    {
     "data": {
      "text/html": [
       "<style>#sk-container-id-1 {\n",
       "  /* Definition of color scheme common for light and dark mode */\n",
       "  --sklearn-color-text: black;\n",
       "  --sklearn-color-line: gray;\n",
       "  /* Definition of color scheme for unfitted estimators */\n",
       "  --sklearn-color-unfitted-level-0: #fff5e6;\n",
       "  --sklearn-color-unfitted-level-1: #f6e4d2;\n",
       "  --sklearn-color-unfitted-level-2: #ffe0b3;\n",
       "  --sklearn-color-unfitted-level-3: chocolate;\n",
       "  /* Definition of color scheme for fitted estimators */\n",
       "  --sklearn-color-fitted-level-0: #f0f8ff;\n",
       "  --sklearn-color-fitted-level-1: #d4ebff;\n",
       "  --sklearn-color-fitted-level-2: #b3dbfd;\n",
       "  --sklearn-color-fitted-level-3: cornflowerblue;\n",
       "\n",
       "  /* Specific color for light theme */\n",
       "  --sklearn-color-text-on-default-background: var(--sg-text-color, var(--theme-code-foreground, var(--jp-content-font-color1, black)));\n",
       "  --sklearn-color-background: var(--sg-background-color, var(--theme-background, var(--jp-layout-color0, white)));\n",
       "  --sklearn-color-border-box: var(--sg-text-color, var(--theme-code-foreground, var(--jp-content-font-color1, black)));\n",
       "  --sklearn-color-icon: #696969;\n",
       "\n",
       "  @media (prefers-color-scheme: dark) {\n",
       "    /* Redefinition of color scheme for dark theme */\n",
       "    --sklearn-color-text-on-default-background: var(--sg-text-color, var(--theme-code-foreground, var(--jp-content-font-color1, white)));\n",
       "    --sklearn-color-background: var(--sg-background-color, var(--theme-background, var(--jp-layout-color0, #111)));\n",
       "    --sklearn-color-border-box: var(--sg-text-color, var(--theme-code-foreground, var(--jp-content-font-color1, white)));\n",
       "    --sklearn-color-icon: #878787;\n",
       "  }\n",
       "}\n",
       "\n",
       "#sk-container-id-1 {\n",
       "  color: var(--sklearn-color-text);\n",
       "}\n",
       "\n",
       "#sk-container-id-1 pre {\n",
       "  padding: 0;\n",
       "}\n",
       "\n",
       "#sk-container-id-1 input.sk-hidden--visually {\n",
       "  border: 0;\n",
       "  clip: rect(1px 1px 1px 1px);\n",
       "  clip: rect(1px, 1px, 1px, 1px);\n",
       "  height: 1px;\n",
       "  margin: -1px;\n",
       "  overflow: hidden;\n",
       "  padding: 0;\n",
       "  position: absolute;\n",
       "  width: 1px;\n",
       "}\n",
       "\n",
       "#sk-container-id-1 div.sk-dashed-wrapped {\n",
       "  border: 1px dashed var(--sklearn-color-line);\n",
       "  margin: 0 0.4em 0.5em 0.4em;\n",
       "  box-sizing: border-box;\n",
       "  padding-bottom: 0.4em;\n",
       "  background-color: var(--sklearn-color-background);\n",
       "}\n",
       "\n",
       "#sk-container-id-1 div.sk-container {\n",
       "  /* jupyter's `normalize.less` sets `[hidden] { display: none; }`\n",
       "     but bootstrap.min.css set `[hidden] { display: none !important; }`\n",
       "     so we also need the `!important` here to be able to override the\n",
       "     default hidden behavior on the sphinx rendered scikit-learn.org.\n",
       "     See: https://github.com/scikit-learn/scikit-learn/issues/21755 */\n",
       "  display: inline-block !important;\n",
       "  position: relative;\n",
       "}\n",
       "\n",
       "#sk-container-id-1 div.sk-text-repr-fallback {\n",
       "  display: none;\n",
       "}\n",
       "\n",
       "div.sk-parallel-item,\n",
       "div.sk-serial,\n",
       "div.sk-item {\n",
       "  /* draw centered vertical line to link estimators */\n",
       "  background-image: linear-gradient(var(--sklearn-color-text-on-default-background), var(--sklearn-color-text-on-default-background));\n",
       "  background-size: 2px 100%;\n",
       "  background-repeat: no-repeat;\n",
       "  background-position: center center;\n",
       "}\n",
       "\n",
       "/* Parallel-specific style estimator block */\n",
       "\n",
       "#sk-container-id-1 div.sk-parallel-item::after {\n",
       "  content: \"\";\n",
       "  width: 100%;\n",
       "  border-bottom: 2px solid var(--sklearn-color-text-on-default-background);\n",
       "  flex-grow: 1;\n",
       "}\n",
       "\n",
       "#sk-container-id-1 div.sk-parallel {\n",
       "  display: flex;\n",
       "  align-items: stretch;\n",
       "  justify-content: center;\n",
       "  background-color: var(--sklearn-color-background);\n",
       "  position: relative;\n",
       "}\n",
       "\n",
       "#sk-container-id-1 div.sk-parallel-item {\n",
       "  display: flex;\n",
       "  flex-direction: column;\n",
       "}\n",
       "\n",
       "#sk-container-id-1 div.sk-parallel-item:first-child::after {\n",
       "  align-self: flex-end;\n",
       "  width: 50%;\n",
       "}\n",
       "\n",
       "#sk-container-id-1 div.sk-parallel-item:last-child::after {\n",
       "  align-self: flex-start;\n",
       "  width: 50%;\n",
       "}\n",
       "\n",
       "#sk-container-id-1 div.sk-parallel-item:only-child::after {\n",
       "  width: 0;\n",
       "}\n",
       "\n",
       "/* Serial-specific style estimator block */\n",
       "\n",
       "#sk-container-id-1 div.sk-serial {\n",
       "  display: flex;\n",
       "  flex-direction: column;\n",
       "  align-items: center;\n",
       "  background-color: var(--sklearn-color-background);\n",
       "  padding-right: 1em;\n",
       "  padding-left: 1em;\n",
       "}\n",
       "\n",
       "\n",
       "/* Toggleable style: style used for estimator/Pipeline/ColumnTransformer box that is\n",
       "clickable and can be expanded/collapsed.\n",
       "- Pipeline and ColumnTransformer use this feature and define the default style\n",
       "- Estimators will overwrite some part of the style using the `sk-estimator` class\n",
       "*/\n",
       "\n",
       "/* Pipeline and ColumnTransformer style (default) */\n",
       "\n",
       "#sk-container-id-1 div.sk-toggleable {\n",
       "  /* Default theme specific background. It is overwritten whether we have a\n",
       "  specific estimator or a Pipeline/ColumnTransformer */\n",
       "  background-color: var(--sklearn-color-background);\n",
       "}\n",
       "\n",
       "/* Toggleable label */\n",
       "#sk-container-id-1 label.sk-toggleable__label {\n",
       "  cursor: pointer;\n",
       "  display: block;\n",
       "  width: 100%;\n",
       "  margin-bottom: 0;\n",
       "  padding: 0.5em;\n",
       "  box-sizing: border-box;\n",
       "  text-align: center;\n",
       "}\n",
       "\n",
       "#sk-container-id-1 label.sk-toggleable__label-arrow:before {\n",
       "  /* Arrow on the left of the label */\n",
       "  content: \"▸\";\n",
       "  float: left;\n",
       "  margin-right: 0.25em;\n",
       "  color: var(--sklearn-color-icon);\n",
       "}\n",
       "\n",
       "#sk-container-id-1 label.sk-toggleable__label-arrow:hover:before {\n",
       "  color: var(--sklearn-color-text);\n",
       "}\n",
       "\n",
       "/* Toggleable content - dropdown */\n",
       "\n",
       "#sk-container-id-1 div.sk-toggleable__content {\n",
       "  max-height: 0;\n",
       "  max-width: 0;\n",
       "  overflow: hidden;\n",
       "  text-align: left;\n",
       "  /* unfitted */\n",
       "  background-color: var(--sklearn-color-unfitted-level-0);\n",
       "}\n",
       "\n",
       "#sk-container-id-1 div.sk-toggleable__content.fitted {\n",
       "  /* fitted */\n",
       "  background-color: var(--sklearn-color-fitted-level-0);\n",
       "}\n",
       "\n",
       "#sk-container-id-1 div.sk-toggleable__content pre {\n",
       "  margin: 0.2em;\n",
       "  border-radius: 0.25em;\n",
       "  color: var(--sklearn-color-text);\n",
       "  /* unfitted */\n",
       "  background-color: var(--sklearn-color-unfitted-level-0);\n",
       "}\n",
       "\n",
       "#sk-container-id-1 div.sk-toggleable__content.fitted pre {\n",
       "  /* unfitted */\n",
       "  background-color: var(--sklearn-color-fitted-level-0);\n",
       "}\n",
       "\n",
       "#sk-container-id-1 input.sk-toggleable__control:checked~div.sk-toggleable__content {\n",
       "  /* Expand drop-down */\n",
       "  max-height: 200px;\n",
       "  max-width: 100%;\n",
       "  overflow: auto;\n",
       "}\n",
       "\n",
       "#sk-container-id-1 input.sk-toggleable__control:checked~label.sk-toggleable__label-arrow:before {\n",
       "  content: \"▾\";\n",
       "}\n",
       "\n",
       "/* Pipeline/ColumnTransformer-specific style */\n",
       "\n",
       "#sk-container-id-1 div.sk-label input.sk-toggleable__control:checked~label.sk-toggleable__label {\n",
       "  color: var(--sklearn-color-text);\n",
       "  background-color: var(--sklearn-color-unfitted-level-2);\n",
       "}\n",
       "\n",
       "#sk-container-id-1 div.sk-label.fitted input.sk-toggleable__control:checked~label.sk-toggleable__label {\n",
       "  background-color: var(--sklearn-color-fitted-level-2);\n",
       "}\n",
       "\n",
       "/* Estimator-specific style */\n",
       "\n",
       "/* Colorize estimator box */\n",
       "#sk-container-id-1 div.sk-estimator input.sk-toggleable__control:checked~label.sk-toggleable__label {\n",
       "  /* unfitted */\n",
       "  background-color: var(--sklearn-color-unfitted-level-2);\n",
       "}\n",
       "\n",
       "#sk-container-id-1 div.sk-estimator.fitted input.sk-toggleable__control:checked~label.sk-toggleable__label {\n",
       "  /* fitted */\n",
       "  background-color: var(--sklearn-color-fitted-level-2);\n",
       "}\n",
       "\n",
       "#sk-container-id-1 div.sk-label label.sk-toggleable__label,\n",
       "#sk-container-id-1 div.sk-label label {\n",
       "  /* The background is the default theme color */\n",
       "  color: var(--sklearn-color-text-on-default-background);\n",
       "}\n",
       "\n",
       "/* On hover, darken the color of the background */\n",
       "#sk-container-id-1 div.sk-label:hover label.sk-toggleable__label {\n",
       "  color: var(--sklearn-color-text);\n",
       "  background-color: var(--sklearn-color-unfitted-level-2);\n",
       "}\n",
       "\n",
       "/* Label box, darken color on hover, fitted */\n",
       "#sk-container-id-1 div.sk-label.fitted:hover label.sk-toggleable__label.fitted {\n",
       "  color: var(--sklearn-color-text);\n",
       "  background-color: var(--sklearn-color-fitted-level-2);\n",
       "}\n",
       "\n",
       "/* Estimator label */\n",
       "\n",
       "#sk-container-id-1 div.sk-label label {\n",
       "  font-family: monospace;\n",
       "  font-weight: bold;\n",
       "  display: inline-block;\n",
       "  line-height: 1.2em;\n",
       "}\n",
       "\n",
       "#sk-container-id-1 div.sk-label-container {\n",
       "  text-align: center;\n",
       "}\n",
       "\n",
       "/* Estimator-specific */\n",
       "#sk-container-id-1 div.sk-estimator {\n",
       "  font-family: monospace;\n",
       "  border: 1px dotted var(--sklearn-color-border-box);\n",
       "  border-radius: 0.25em;\n",
       "  box-sizing: border-box;\n",
       "  margin-bottom: 0.5em;\n",
       "  /* unfitted */\n",
       "  background-color: var(--sklearn-color-unfitted-level-0);\n",
       "}\n",
       "\n",
       "#sk-container-id-1 div.sk-estimator.fitted {\n",
       "  /* fitted */\n",
       "  background-color: var(--sklearn-color-fitted-level-0);\n",
       "}\n",
       "\n",
       "/* on hover */\n",
       "#sk-container-id-1 div.sk-estimator:hover {\n",
       "  /* unfitted */\n",
       "  background-color: var(--sklearn-color-unfitted-level-2);\n",
       "}\n",
       "\n",
       "#sk-container-id-1 div.sk-estimator.fitted:hover {\n",
       "  /* fitted */\n",
       "  background-color: var(--sklearn-color-fitted-level-2);\n",
       "}\n",
       "\n",
       "/* Specification for estimator info (e.g. \"i\" and \"?\") */\n",
       "\n",
       "/* Common style for \"i\" and \"?\" */\n",
       "\n",
       ".sk-estimator-doc-link,\n",
       "a:link.sk-estimator-doc-link,\n",
       "a:visited.sk-estimator-doc-link {\n",
       "  float: right;\n",
       "  font-size: smaller;\n",
       "  line-height: 1em;\n",
       "  font-family: monospace;\n",
       "  background-color: var(--sklearn-color-background);\n",
       "  border-radius: 1em;\n",
       "  height: 1em;\n",
       "  width: 1em;\n",
       "  text-decoration: none !important;\n",
       "  margin-left: 1ex;\n",
       "  /* unfitted */\n",
       "  border: var(--sklearn-color-unfitted-level-1) 1pt solid;\n",
       "  color: var(--sklearn-color-unfitted-level-1);\n",
       "}\n",
       "\n",
       ".sk-estimator-doc-link.fitted,\n",
       "a:link.sk-estimator-doc-link.fitted,\n",
       "a:visited.sk-estimator-doc-link.fitted {\n",
       "  /* fitted */\n",
       "  border: var(--sklearn-color-fitted-level-1) 1pt solid;\n",
       "  color: var(--sklearn-color-fitted-level-1);\n",
       "}\n",
       "\n",
       "/* On hover */\n",
       "div.sk-estimator:hover .sk-estimator-doc-link:hover,\n",
       ".sk-estimator-doc-link:hover,\n",
       "div.sk-label-container:hover .sk-estimator-doc-link:hover,\n",
       ".sk-estimator-doc-link:hover {\n",
       "  /* unfitted */\n",
       "  background-color: var(--sklearn-color-unfitted-level-3);\n",
       "  color: var(--sklearn-color-background);\n",
       "  text-decoration: none;\n",
       "}\n",
       "\n",
       "div.sk-estimator.fitted:hover .sk-estimator-doc-link.fitted:hover,\n",
       ".sk-estimator-doc-link.fitted:hover,\n",
       "div.sk-label-container:hover .sk-estimator-doc-link.fitted:hover,\n",
       ".sk-estimator-doc-link.fitted:hover {\n",
       "  /* fitted */\n",
       "  background-color: var(--sklearn-color-fitted-level-3);\n",
       "  color: var(--sklearn-color-background);\n",
       "  text-decoration: none;\n",
       "}\n",
       "\n",
       "/* Span, style for the box shown on hovering the info icon */\n",
       ".sk-estimator-doc-link span {\n",
       "  display: none;\n",
       "  z-index: 9999;\n",
       "  position: relative;\n",
       "  font-weight: normal;\n",
       "  right: .2ex;\n",
       "  padding: .5ex;\n",
       "  margin: .5ex;\n",
       "  width: min-content;\n",
       "  min-width: 20ex;\n",
       "  max-width: 50ex;\n",
       "  color: var(--sklearn-color-text);\n",
       "  box-shadow: 2pt 2pt 4pt #999;\n",
       "  /* unfitted */\n",
       "  background: var(--sklearn-color-unfitted-level-0);\n",
       "  border: .5pt solid var(--sklearn-color-unfitted-level-3);\n",
       "}\n",
       "\n",
       ".sk-estimator-doc-link.fitted span {\n",
       "  /* fitted */\n",
       "  background: var(--sklearn-color-fitted-level-0);\n",
       "  border: var(--sklearn-color-fitted-level-3);\n",
       "}\n",
       "\n",
       ".sk-estimator-doc-link:hover span {\n",
       "  display: block;\n",
       "}\n",
       "\n",
       "/* \"?\"-specific style due to the `<a>` HTML tag */\n",
       "\n",
       "#sk-container-id-1 a.estimator_doc_link {\n",
       "  float: right;\n",
       "  font-size: 1rem;\n",
       "  line-height: 1em;\n",
       "  font-family: monospace;\n",
       "  background-color: var(--sklearn-color-background);\n",
       "  border-radius: 1rem;\n",
       "  height: 1rem;\n",
       "  width: 1rem;\n",
       "  text-decoration: none;\n",
       "  /* unfitted */\n",
       "  color: var(--sklearn-color-unfitted-level-1);\n",
       "  border: var(--sklearn-color-unfitted-level-1) 1pt solid;\n",
       "}\n",
       "\n",
       "#sk-container-id-1 a.estimator_doc_link.fitted {\n",
       "  /* fitted */\n",
       "  border: var(--sklearn-color-fitted-level-1) 1pt solid;\n",
       "  color: var(--sklearn-color-fitted-level-1);\n",
       "}\n",
       "\n",
       "/* On hover */\n",
       "#sk-container-id-1 a.estimator_doc_link:hover {\n",
       "  /* unfitted */\n",
       "  background-color: var(--sklearn-color-unfitted-level-3);\n",
       "  color: var(--sklearn-color-background);\n",
       "  text-decoration: none;\n",
       "}\n",
       "\n",
       "#sk-container-id-1 a.estimator_doc_link.fitted:hover {\n",
       "  /* fitted */\n",
       "  background-color: var(--sklearn-color-fitted-level-3);\n",
       "}\n",
       "</style><div id=\"sk-container-id-1\" class=\"sk-top-container\"><div class=\"sk-text-repr-fallback\"><pre>KMeans(n_clusters=5)</pre><b>In a Jupyter environment, please rerun this cell to show the HTML representation or trust the notebook. <br />On GitHub, the HTML representation is unable to render, please try loading this page with nbviewer.org.</b></div><div class=\"sk-container\" hidden><div class=\"sk-item\"><div class=\"sk-estimator fitted sk-toggleable\"><input class=\"sk-toggleable__control sk-hidden--visually\" id=\"sk-estimator-id-1\" type=\"checkbox\" checked><label for=\"sk-estimator-id-1\" class=\"sk-toggleable__label fitted sk-toggleable__label-arrow fitted\">&nbsp;&nbsp;KMeans<a class=\"sk-estimator-doc-link fitted\" rel=\"noreferrer\" target=\"_blank\" href=\"https://scikit-learn.org/1.4/modules/generated/sklearn.cluster.KMeans.html\">?<span>Documentation for KMeans</span></a><span class=\"sk-estimator-doc-link fitted\">i<span>Fitted</span></span></label><div class=\"sk-toggleable__content fitted\"><pre>KMeans(n_clusters=5)</pre></div> </div></div></div></div>"
      ],
      "text/plain": [
       "KMeans(n_clusters=5)"
      ]
     },
     "execution_count": 16,
     "metadata": {},
     "output_type": "execute_result"
    }
   ],
   "source": [
    "clusters = KMeans(n_clusters=5)\n",
    "clusters.fit(X)"
   ]
  },
  {
   "cell_type": "code",
   "execution_count": 17,
   "id": "9c39add4-f192-4382-9622-959d4a07bb1f",
   "metadata": {},
   "outputs": [
    {
     "name": "stderr",
     "output_type": "stream",
     "text": [
      "/Users/milliehuang/miniconda3/envs/goodreads/lib/python3.12/site-packages/yellowbrick/text/tsne.py:401: UserWarning: *c* argument looks like a single numeric RGB or RGBA sequence, which should be avoided as value-mapping will have precedence in case its length matches with *x* & *y*.  Please use the *color* keyword-argument or provide a 2D array with a single row if you intend to specify the same RGB or RGBA value for all points.\n",
      "  self.ax.scatter(\n"
     ]
    },
    {
     "data": {
      "text/plain": [
       "<Axes: title={'center': 'TSNE Projection of 84709 Documents'}>"
      ]
     },
     "execution_count": 17,
     "metadata": {},
     "output_type": "execute_result"
    }
   ],
   "source": [
    "tsne.fit(X, [\"c{}\".format(c) for c in clusters.labels_])\n",
    "tsne.show()"
   ]
  },
  {
   "cell_type": "markdown",
   "id": "d8314203-7957-4673-891c-c32996f9c0ab",
   "metadata": {},
   "source": [
    "## Sentence Transformers"
   ]
  },
  {
   "cell_type": "code",
   "execution_count": 10,
   "id": "0f8b4479-e599-4ab9-9f7e-e49dbdea908c",
   "metadata": {},
   "outputs": [],
   "source": [
    "from sklearn.metrics.pairwise import cosine_similarity"
   ]
  },
  {
   "cell_type": "code",
   "execution_count": 12,
   "id": "869e6fee-266e-403f-a692-c761efa10b45",
   "metadata": {},
   "outputs": [
    {
     "name": "stderr",
     "output_type": "stream",
     "text": [
      "/Users/milliehuang/.local/lib/python3.12/site-packages/tqdm/auto.py:21: TqdmWarning: IProgress not found. Please update jupyter and ipywidgets. See https://ipywidgets.readthedocs.io/en/stable/user_install.html\n",
      "  from .autonotebook import tqdm as notebook_tqdm\n",
      "/Users/milliehuang/miniconda3/envs/goodreads/lib/python3.12/site-packages/torch/_utils.py:831: UserWarning: TypedStorage is deprecated. It will be removed in the future and UntypedStorage will be the only storage class. This should only matter to you if you are using storages directly.  To access UntypedStorage directly, use tensor.untyped_storage() instead of tensor.storage()\n",
      "  return self.fget.__get__(instance, owner)()\n"
     ]
    }
   ],
   "source": [
    "from sentence_transformers import SentenceTransformer, util\n",
    "\n",
    "st = SentenceTransformer(\"all-MiniLM-L6-v2\")"
   ]
  },
  {
   "cell_type": "code",
   "execution_count": 79,
   "id": "f12e596c-0e9a-48c9-bde3-7f80a49a0872",
   "metadata": {},
   "outputs": [
    {
     "data": {
      "text/html": [
       "<div>\n",
       "<style scoped>\n",
       "    .dataframe tbody tr th:only-of-type {\n",
       "        vertical-align: middle;\n",
       "    }\n",
       "\n",
       "    .dataframe tbody tr th {\n",
       "        vertical-align: top;\n",
       "    }\n",
       "\n",
       "    .dataframe thead th {\n",
       "        text-align: right;\n",
       "    }\n",
       "</style>\n",
       "<table border=\"1\" class=\"dataframe\">\n",
       "  <thead>\n",
       "    <tr style=\"text-align: right;\">\n",
       "      <th></th>\n",
       "      <th>user_id</th>\n",
       "      <th>book_id</th>\n",
       "      <th>review_id</th>\n",
       "      <th>rating</th>\n",
       "      <th>review_text</th>\n",
       "      <th>date_added</th>\n",
       "      <th>date_updated</th>\n",
       "      <th>read_at</th>\n",
       "      <th>started_at</th>\n",
       "      <th>n_votes</th>\n",
       "      <th>...</th>\n",
       "      <th>isbn13</th>\n",
       "      <th>publication_month</th>\n",
       "      <th>edition_information</th>\n",
       "      <th>publication_year</th>\n",
       "      <th>url</th>\n",
       "      <th>image_url</th>\n",
       "      <th>ratings_count</th>\n",
       "      <th>work_id</th>\n",
       "      <th>title</th>\n",
       "      <th>title_without_series</th>\n",
       "    </tr>\n",
       "  </thead>\n",
       "  <tbody>\n",
       "    <tr>\n",
       "      <th>0</th>\n",
       "      <td>8842281e1d1347389f2ab93d60773d4d</td>\n",
       "      <td>18245960</td>\n",
       "      <td>dfdbb7b0eb5a7e4c26d59a937e2e5feb</td>\n",
       "      <td>5</td>\n",
       "      <td>special book started slow first third middle t...</td>\n",
       "      <td>Sun Jul 30 07:44:10 -0700 2017</td>\n",
       "      <td>Wed Aug 30 00:00:26 -0700 2017</td>\n",
       "      <td>Sat Aug 26 12:05:52 -0700 2017</td>\n",
       "      <td>Tue Aug 15 13:23:18 -0700 2017</td>\n",
       "      <td>28</td>\n",
       "      <td>...</td>\n",
       "      <td>NaN</td>\n",
       "      <td>10.0</td>\n",
       "      <td>NaN</td>\n",
       "      <td>2014.0</td>\n",
       "      <td>https://www.goodreads.com/book/show/18245960-t...</td>\n",
       "      <td>https://images.gr-assets.com/books/1396560452m...</td>\n",
       "      <td>6336</td>\n",
       "      <td>25696480</td>\n",
       "      <td>The Three-Body Problem (Remembrance of Earth’s...</td>\n",
       "      <td>The Three-Body Problem (Remembrance of Earth’s...</td>\n",
       "    </tr>\n",
       "    <tr>\n",
       "      <th>1</th>\n",
       "      <td>8842281e1d1347389f2ab93d60773d4d</td>\n",
       "      <td>16981</td>\n",
       "      <td>a5d2c3628987712d0e05c4f90798eb67</td>\n",
       "      <td>3</td>\n",
       "      <td>recommended katz avail free december httpwwwau...</td>\n",
       "      <td>Mon Dec 05 10:46:44 -0800 2016</td>\n",
       "      <td>Wed Mar 22 11:37:04 -0700 2017</td>\n",
       "      <td>NaN</td>\n",
       "      <td>NaN</td>\n",
       "      <td>1</td>\n",
       "      <td>...</td>\n",
       "      <td>9780679732761</td>\n",
       "      <td>2.0</td>\n",
       "      <td>NaN</td>\n",
       "      <td>1995.0</td>\n",
       "      <td>https://www.goodreads.com/book/show/16981.Invi...</td>\n",
       "      <td>https://images.gr-assets.com/books/1352854247m...</td>\n",
       "      <td>125232</td>\n",
       "      <td>170957</td>\n",
       "      <td>Invisible Man</td>\n",
       "      <td>Invisible Man</td>\n",
       "    </tr>\n",
       "    <tr>\n",
       "      <th>2</th>\n",
       "      <td>8842281e1d1347389f2ab93d60773d4d</td>\n",
       "      <td>28684704</td>\n",
       "      <td>2ede853b14dc4583f96cf5d120af636f</td>\n",
       "      <td>3</td>\n",
       "      <td>fun fast paced science fiction thriller read 2...</td>\n",
       "      <td>Tue Nov 15 11:29:22 -0800 2016</td>\n",
       "      <td>Mon Mar 20 23:40:27 -0700 2017</td>\n",
       "      <td>Sat Mar 18 23:22:42 -0700 2017</td>\n",
       "      <td>Fri Mar 17 23:45:40 -0700 2017</td>\n",
       "      <td>22</td>\n",
       "      <td>...</td>\n",
       "      <td>NaN</td>\n",
       "      <td>7.0</td>\n",
       "      <td>NaN</td>\n",
       "      <td>2016.0</td>\n",
       "      <td>https://www.goodreads.com/book/show/28684704-d...</td>\n",
       "      <td>https://images.gr-assets.com/books/1455140434m...</td>\n",
       "      <td>13990</td>\n",
       "      <td>43161998</td>\n",
       "      <td>Dark Matter</td>\n",
       "      <td>Dark Matter</td>\n",
       "    </tr>\n",
       "    <tr>\n",
       "      <th>3</th>\n",
       "      <td>8842281e1d1347389f2ab93d60773d4d</td>\n",
       "      <td>25884323</td>\n",
       "      <td>332732725863131279a8e345b63ac33e</td>\n",
       "      <td>4</td>\n",
       "      <td>really enjoyed book lot recommend drag little ...</td>\n",
       "      <td>Mon Apr 25 09:31:23 -0700 2016</td>\n",
       "      <td>Mon Apr 25 09:31:23 -0700 2016</td>\n",
       "      <td>Sun Jun 26 00:00:00 -0700 2016</td>\n",
       "      <td>Sat May 28 00:00:00 -0700 2016</td>\n",
       "      <td>9</td>\n",
       "      <td>...</td>\n",
       "      <td>NaN</td>\n",
       "      <td>NaN</td>\n",
       "      <td>NaN</td>\n",
       "      <td>NaN</td>\n",
       "      <td>https://www.goodreads.com/book/show/25884323-a...</td>\n",
       "      <td>https://s.gr-assets.com/assets/nophoto/book/11...</td>\n",
       "      <td>1659</td>\n",
       "      <td>42742263</td>\n",
       "      <td>Aurora</td>\n",
       "      <td>Aurora</td>\n",
       "    </tr>\n",
       "    <tr>\n",
       "      <th>4</th>\n",
       "      <td>8842281e1d1347389f2ab93d60773d4d</td>\n",
       "      <td>19398490</td>\n",
       "      <td>ea4a220b10e6b5c796dae0e3b970aff1</td>\n",
       "      <td>4</td>\n",
       "      <td>beautiful story rare encounter book good job p...</td>\n",
       "      <td>Sun Jan 03 21:20:46 -0800 2016</td>\n",
       "      <td>Tue Sep 20 23:30:15 -0700 2016</td>\n",
       "      <td>Tue Sep 13 11:51:51 -0700 2016</td>\n",
       "      <td>Sat Aug 20 07:03:03 -0700 2016</td>\n",
       "      <td>35</td>\n",
       "      <td>...</td>\n",
       "      <td>NaN</td>\n",
       "      <td>5.0</td>\n",
       "      <td>NaN</td>\n",
       "      <td>2014.0</td>\n",
       "      <td>https://www.goodreads.com/book/show/19398490-a...</td>\n",
       "      <td>https://images.gr-assets.com/books/1440903901m...</td>\n",
       "      <td>53342</td>\n",
       "      <td>25491300</td>\n",
       "      <td>All the Light We Cannot See</td>\n",
       "      <td>All the Light We Cannot See</td>\n",
       "    </tr>\n",
       "  </tbody>\n",
       "</table>\n",
       "<p>5 rows × 39 columns</p>\n",
       "</div>"
      ],
      "text/plain": [
       "                            user_id   book_id  \\\n",
       "0  8842281e1d1347389f2ab93d60773d4d  18245960   \n",
       "1  8842281e1d1347389f2ab93d60773d4d     16981   \n",
       "2  8842281e1d1347389f2ab93d60773d4d  28684704   \n",
       "3  8842281e1d1347389f2ab93d60773d4d  25884323   \n",
       "4  8842281e1d1347389f2ab93d60773d4d  19398490   \n",
       "\n",
       "                          review_id  rating  \\\n",
       "0  dfdbb7b0eb5a7e4c26d59a937e2e5feb       5   \n",
       "1  a5d2c3628987712d0e05c4f90798eb67       3   \n",
       "2  2ede853b14dc4583f96cf5d120af636f       3   \n",
       "3  332732725863131279a8e345b63ac33e       4   \n",
       "4  ea4a220b10e6b5c796dae0e3b970aff1       4   \n",
       "\n",
       "                                         review_text  \\\n",
       "0  special book started slow first third middle t...   \n",
       "1  recommended katz avail free december httpwwwau...   \n",
       "2  fun fast paced science fiction thriller read 2...   \n",
       "3  really enjoyed book lot recommend drag little ...   \n",
       "4  beautiful story rare encounter book good job p...   \n",
       "\n",
       "                       date_added                    date_updated  \\\n",
       "0  Sun Jul 30 07:44:10 -0700 2017  Wed Aug 30 00:00:26 -0700 2017   \n",
       "1  Mon Dec 05 10:46:44 -0800 2016  Wed Mar 22 11:37:04 -0700 2017   \n",
       "2  Tue Nov 15 11:29:22 -0800 2016  Mon Mar 20 23:40:27 -0700 2017   \n",
       "3  Mon Apr 25 09:31:23 -0700 2016  Mon Apr 25 09:31:23 -0700 2016   \n",
       "4  Sun Jan 03 21:20:46 -0800 2016  Tue Sep 20 23:30:15 -0700 2016   \n",
       "\n",
       "                          read_at                      started_at  n_votes  \\\n",
       "0  Sat Aug 26 12:05:52 -0700 2017  Tue Aug 15 13:23:18 -0700 2017       28   \n",
       "1                             NaN                             NaN        1   \n",
       "2  Sat Mar 18 23:22:42 -0700 2017  Fri Mar 17 23:45:40 -0700 2017       22   \n",
       "3  Sun Jun 26 00:00:00 -0700 2016  Sat May 28 00:00:00 -0700 2016        9   \n",
       "4  Tue Sep 13 11:51:51 -0700 2016  Sat Aug 20 07:03:03 -0700 2016       35   \n",
       "\n",
       "   ...         isbn13 publication_month  edition_information publication_year  \\\n",
       "0  ...            NaN              10.0                  NaN           2014.0   \n",
       "1  ...  9780679732761               2.0                  NaN           1995.0   \n",
       "2  ...            NaN               7.0                  NaN           2016.0   \n",
       "3  ...            NaN               NaN                  NaN              NaN   \n",
       "4  ...            NaN               5.0                  NaN           2014.0   \n",
       "\n",
       "                                                 url  \\\n",
       "0  https://www.goodreads.com/book/show/18245960-t...   \n",
       "1  https://www.goodreads.com/book/show/16981.Invi...   \n",
       "2  https://www.goodreads.com/book/show/28684704-d...   \n",
       "3  https://www.goodreads.com/book/show/25884323-a...   \n",
       "4  https://www.goodreads.com/book/show/19398490-a...   \n",
       "\n",
       "                                           image_url ratings_count   work_id  \\\n",
       "0  https://images.gr-assets.com/books/1396560452m...          6336  25696480   \n",
       "1  https://images.gr-assets.com/books/1352854247m...        125232    170957   \n",
       "2  https://images.gr-assets.com/books/1455140434m...         13990  43161998   \n",
       "3  https://s.gr-assets.com/assets/nophoto/book/11...          1659  42742263   \n",
       "4  https://images.gr-assets.com/books/1440903901m...         53342  25491300   \n",
       "\n",
       "                                               title  \\\n",
       "0  The Three-Body Problem (Remembrance of Earth’s...   \n",
       "1                                      Invisible Man   \n",
       "2                                        Dark Matter   \n",
       "3                                             Aurora   \n",
       "4                        All the Light We Cannot See   \n",
       "\n",
       "                                title_without_series  \n",
       "0  The Three-Body Problem (Remembrance of Earth’s...  \n",
       "1                                      Invisible Man  \n",
       "2                                        Dark Matter  \n",
       "3                                             Aurora  \n",
       "4                        All the Light We Cannot See  \n",
       "\n",
       "[5 rows x 39 columns]"
      ]
     },
     "execution_count": 79,
     "metadata": {},
     "output_type": "execute_result"
    }
   ],
   "source": [
    "embedding_df.head()"
   ]
  },
  {
   "cell_type": "code",
   "execution_count": 230,
   "id": "8f5fafda-1cd6-448f-83fb-7240cac15b32",
   "metadata": {},
   "outputs": [],
   "source": [
    "# embedding_df = embedding_df[['review_text', 'title_without_series', 'image_url', 'ratings_count', 'publication_year', 'book_id']]"
   ]
  },
  {
   "cell_type": "code",
   "execution_count": 106,
   "id": "8a387f17-1ca6-4aef-8853-ea080a082ecf",
   "metadata": {},
   "outputs": [],
   "source": [
    "# embeddings = st.encode(embedding_df['review_text'].to_list())"
   ]
  },
  {
   "cell_type": "code",
   "execution_count": 108,
   "id": "5f27c727-a71d-4097-8ec6-7e417f8dbdb4",
   "metadata": {},
   "outputs": [],
   "source": [
    "# embedding_df['embedding'] = embeddings.tolist()"
   ]
  },
  {
   "cell_type": "code",
   "execution_count": 117,
   "id": "eff254ea-6a39-4253-827a-cf303fe822fc",
   "metadata": {},
   "outputs": [
    {
     "data": {
      "text/html": [
       "<div>\n",
       "<style scoped>\n",
       "    .dataframe tbody tr th:only-of-type {\n",
       "        vertical-align: middle;\n",
       "    }\n",
       "\n",
       "    .dataframe tbody tr th {\n",
       "        vertical-align: top;\n",
       "    }\n",
       "\n",
       "    .dataframe thead th {\n",
       "        text-align: right;\n",
       "    }\n",
       "</style>\n",
       "<table border=\"1\" class=\"dataframe\">\n",
       "  <thead>\n",
       "    <tr style=\"text-align: right;\">\n",
       "      <th></th>\n",
       "      <th>title_without_series</th>\n",
       "      <th>review_text</th>\n",
       "      <th>image_url</th>\n",
       "      <th>ratings_count</th>\n",
       "      <th>publication_year</th>\n",
       "      <th>book_id</th>\n",
       "      <th>embedding</th>\n",
       "    </tr>\n",
       "  </thead>\n",
       "  <tbody>\n",
       "    <tr>\n",
       "      <th>0</th>\n",
       "      <td>The Three-Body Problem (Remembrance of Earth’s...</td>\n",
       "      <td>special book started slow first third middle t...</td>\n",
       "      <td>https://images.gr-assets.com/books/1396560452m...</td>\n",
       "      <td>6336</td>\n",
       "      <td>2014</td>\n",
       "      <td>18245960</td>\n",
       "      <td>[-0.04855329915881157, -0.07530317455530167, 0...</td>\n",
       "    </tr>\n",
       "    <tr>\n",
       "      <th>1</th>\n",
       "      <td>Invisible Man</td>\n",
       "      <td>recommended katz avail free december httpwwwau...</td>\n",
       "      <td>https://images.gr-assets.com/books/1352854247m...</td>\n",
       "      <td>125232</td>\n",
       "      <td>1995</td>\n",
       "      <td>16981</td>\n",
       "      <td>[-0.018061475828289986, -0.08299577981233597, ...</td>\n",
       "    </tr>\n",
       "    <tr>\n",
       "      <th>2</th>\n",
       "      <td>Dark Matter</td>\n",
       "      <td>fun fast paced science fiction thriller read 2...</td>\n",
       "      <td>https://images.gr-assets.com/books/1455140434m...</td>\n",
       "      <td>13990</td>\n",
       "      <td>2016</td>\n",
       "      <td>28684704</td>\n",
       "      <td>[0.0030977267306298018, -0.07162560522556305, ...</td>\n",
       "    </tr>\n",
       "    <tr>\n",
       "      <th>3</th>\n",
       "      <td>Aurora</td>\n",
       "      <td>really enjoyed book lot recommend drag little ...</td>\n",
       "      <td>https://s.gr-assets.com/assets/nophoto/book/11...</td>\n",
       "      <td>1659</td>\n",
       "      <td></td>\n",
       "      <td>25884323</td>\n",
       "      <td>[0.03057296946644783, -0.09906501322984695, 0....</td>\n",
       "    </tr>\n",
       "    <tr>\n",
       "      <th>4</th>\n",
       "      <td>All the Light We Cannot See</td>\n",
       "      <td>beautiful story rare encounter book good job p...</td>\n",
       "      <td>https://images.gr-assets.com/books/1440903901m...</td>\n",
       "      <td>53342</td>\n",
       "      <td>2014</td>\n",
       "      <td>19398490</td>\n",
       "      <td>[-0.05066211149096489, -0.03355028107762337, -...</td>\n",
       "    </tr>\n",
       "  </tbody>\n",
       "</table>\n",
       "</div>"
      ],
      "text/plain": [
       "                                title_without_series  \\\n",
       "0  The Three-Body Problem (Remembrance of Earth’s...   \n",
       "1                                      Invisible Man   \n",
       "2                                        Dark Matter   \n",
       "3                                             Aurora   \n",
       "4                        All the Light We Cannot See   \n",
       "\n",
       "                                         review_text  \\\n",
       "0  special book started slow first third middle t...   \n",
       "1  recommended katz avail free december httpwwwau...   \n",
       "2  fun fast paced science fiction thriller read 2...   \n",
       "3  really enjoyed book lot recommend drag little ...   \n",
       "4  beautiful story rare encounter book good job p...   \n",
       "\n",
       "                                           image_url ratings_count  \\\n",
       "0  https://images.gr-assets.com/books/1396560452m...          6336   \n",
       "1  https://images.gr-assets.com/books/1352854247m...        125232   \n",
       "2  https://images.gr-assets.com/books/1455140434m...         13990   \n",
       "3  https://s.gr-assets.com/assets/nophoto/book/11...          1659   \n",
       "4  https://images.gr-assets.com/books/1440903901m...         53342   \n",
       "\n",
       "  publication_year   book_id  \\\n",
       "0             2014  18245960   \n",
       "1             1995     16981   \n",
       "2             2016  28684704   \n",
       "3                   25884323   \n",
       "4             2014  19398490   \n",
       "\n",
       "                                           embedding  \n",
       "0  [-0.04855329915881157, -0.07530317455530167, 0...  \n",
       "1  [-0.018061475828289986, -0.08299577981233597, ...  \n",
       "2  [0.0030977267306298018, -0.07162560522556305, ...  \n",
       "3  [0.03057296946644783, -0.09906501322984695, 0....  \n",
       "4  [-0.05066211149096489, -0.03355028107762337, -...  "
      ]
     },
     "execution_count": 117,
     "metadata": {},
     "output_type": "execute_result"
    }
   ],
   "source": [
    "embedding_df.head()"
   ]
  },
  {
   "cell_type": "code",
   "execution_count": null,
   "id": "ba419f97-d473-415c-b79b-2bd26027d76f",
   "metadata": {},
   "outputs": [],
   "source": [
    "# embedding_df['embedding'] = embedding_df['embedding'].apply(lambda x: np.array(x))"
   ]
  },
  {
   "cell_type": "raw",
   "id": "fecad0bf-06fd-4ede-b7ae-4fbb5551da4d",
   "metadata": {},
   "source": [
    "# INSTEAD run all_embeddings = pd.read_csv('result.csv')\n",
    "avg_embedding = embedding_df.groupby(by = ['title_without_series']).agg({'embedding': 'mean'}).add_suffix('_avg')\n",
    "all_embeddings = embedding_df.join(avg_embedding, how = 'left', on = 'title_without_series')"
   ]
  },
  {
   "cell_type": "code",
   "execution_count": 3,
   "id": "3e653646-bfe5-4793-a3f6-371521cdd07c",
   "metadata": {},
   "outputs": [],
   "source": [
    "all_embeddings = pd.read_csv('result.csv')"
   ]
  },
  {
   "cell_type": "code",
   "execution_count": 4,
   "id": "a2844e5c-12fc-4f79-99f8-ed5644c6c01b",
   "metadata": {},
   "outputs": [],
   "source": [
    "all_embeddings.drop('Unnamed: 0', axis=1, inplace=True)"
   ]
  },
  {
   "cell_type": "code",
   "execution_count": 5,
   "id": "682d37dc-7d02-48d7-9c8a-871d9ca75665",
   "metadata": {},
   "outputs": [
    {
     "data": {
      "text/html": [
       "<div>\n",
       "<style scoped>\n",
       "    .dataframe tbody tr th:only-of-type {\n",
       "        vertical-align: middle;\n",
       "    }\n",
       "\n",
       "    .dataframe tbody tr th {\n",
       "        vertical-align: top;\n",
       "    }\n",
       "\n",
       "    .dataframe thead th {\n",
       "        text-align: right;\n",
       "    }\n",
       "</style>\n",
       "<table border=\"1\" class=\"dataframe\">\n",
       "  <thead>\n",
       "    <tr style=\"text-align: right;\">\n",
       "      <th></th>\n",
       "      <th>title_without_series</th>\n",
       "      <th>review_text</th>\n",
       "      <th>image_url</th>\n",
       "      <th>ratings_count</th>\n",
       "      <th>publication_year</th>\n",
       "      <th>book_id</th>\n",
       "      <th>embedding</th>\n",
       "      <th>embedding_avg</th>\n",
       "    </tr>\n",
       "  </thead>\n",
       "  <tbody>\n",
       "    <tr>\n",
       "      <th>0</th>\n",
       "      <td>The Three-Body Problem (Remembrance of Earth’s...</td>\n",
       "      <td>special book started slow first third middle t...</td>\n",
       "      <td>https://images.gr-assets.com/books/1396560452m...</td>\n",
       "      <td>6336</td>\n",
       "      <td>2014.0</td>\n",
       "      <td>18245960</td>\n",
       "      <td>[-4.85532992e-02 -7.53031746e-02  2.61047315e-...</td>\n",
       "      <td>[-2.81490903e-02 -3.71139925e-02  3.14614370e-...</td>\n",
       "    </tr>\n",
       "    <tr>\n",
       "      <th>1</th>\n",
       "      <td>Invisible Man</td>\n",
       "      <td>recommended katz avail free december httpwwwau...</td>\n",
       "      <td>https://images.gr-assets.com/books/1352854247m...</td>\n",
       "      <td>125232</td>\n",
       "      <td>1995.0</td>\n",
       "      <td>16981</td>\n",
       "      <td>[-1.80614758e-02 -8.29957798e-02 -2.41010077e-...</td>\n",
       "      <td>[-4.03356088e-02 -1.68729642e-02 -3.87732995e-...</td>\n",
       "    </tr>\n",
       "    <tr>\n",
       "      <th>2</th>\n",
       "      <td>Dark Matter</td>\n",
       "      <td>fun fast paced science fiction thriller read 2...</td>\n",
       "      <td>https://images.gr-assets.com/books/1455140434m...</td>\n",
       "      <td>13990</td>\n",
       "      <td>2016.0</td>\n",
       "      <td>28684704</td>\n",
       "      <td>[ 3.09772673e-03 -7.16256052e-02  2.15179427e-...</td>\n",
       "      <td>[-4.70053676e-02 -4.83233608e-02 -4.44145211e-...</td>\n",
       "    </tr>\n",
       "    <tr>\n",
       "      <th>3</th>\n",
       "      <td>Aurora</td>\n",
       "      <td>really enjoyed book lot recommend drag little ...</td>\n",
       "      <td>https://s.gr-assets.com/assets/nophoto/book/11...</td>\n",
       "      <td>1659</td>\n",
       "      <td>NaN</td>\n",
       "      <td>25884323</td>\n",
       "      <td>[ 3.05729695e-02 -9.90650132e-02  2.82321312e-...</td>\n",
       "      <td>[-2.84977206e-02 -3.40235705e-02  1.93536605e-...</td>\n",
       "    </tr>\n",
       "    <tr>\n",
       "      <th>4</th>\n",
       "      <td>All the Light We Cannot See</td>\n",
       "      <td>beautiful story rare encounter book good job p...</td>\n",
       "      <td>https://images.gr-assets.com/books/1440903901m...</td>\n",
       "      <td>53342</td>\n",
       "      <td>2014.0</td>\n",
       "      <td>19398490</td>\n",
       "      <td>[-5.06621115e-02 -3.35502811e-02 -8.04223865e-...</td>\n",
       "      <td>[-2.28485476e-02 -2.61134372e-02  1.82272409e-...</td>\n",
       "    </tr>\n",
       "  </tbody>\n",
       "</table>\n",
       "</div>"
      ],
      "text/plain": [
       "                                title_without_series  \\\n",
       "0  The Three-Body Problem (Remembrance of Earth’s...   \n",
       "1                                      Invisible Man   \n",
       "2                                        Dark Matter   \n",
       "3                                             Aurora   \n",
       "4                        All the Light We Cannot See   \n",
       "\n",
       "                                         review_text  \\\n",
       "0  special book started slow first third middle t...   \n",
       "1  recommended katz avail free december httpwwwau...   \n",
       "2  fun fast paced science fiction thriller read 2...   \n",
       "3  really enjoyed book lot recommend drag little ...   \n",
       "4  beautiful story rare encounter book good job p...   \n",
       "\n",
       "                                           image_url  ratings_count  \\\n",
       "0  https://images.gr-assets.com/books/1396560452m...           6336   \n",
       "1  https://images.gr-assets.com/books/1352854247m...         125232   \n",
       "2  https://images.gr-assets.com/books/1455140434m...          13990   \n",
       "3  https://s.gr-assets.com/assets/nophoto/book/11...           1659   \n",
       "4  https://images.gr-assets.com/books/1440903901m...          53342   \n",
       "\n",
       "   publication_year   book_id  \\\n",
       "0            2014.0  18245960   \n",
       "1            1995.0     16981   \n",
       "2            2016.0  28684704   \n",
       "3               NaN  25884323   \n",
       "4            2014.0  19398490   \n",
       "\n",
       "                                           embedding  \\\n",
       "0  [-4.85532992e-02 -7.53031746e-02  2.61047315e-...   \n",
       "1  [-1.80614758e-02 -8.29957798e-02 -2.41010077e-...   \n",
       "2  [ 3.09772673e-03 -7.16256052e-02  2.15179427e-...   \n",
       "3  [ 3.05729695e-02 -9.90650132e-02  2.82321312e-...   \n",
       "4  [-5.06621115e-02 -3.35502811e-02 -8.04223865e-...   \n",
       "\n",
       "                                       embedding_avg  \n",
       "0  [-2.81490903e-02 -3.71139925e-02  3.14614370e-...  \n",
       "1  [-4.03356088e-02 -1.68729642e-02 -3.87732995e-...  \n",
       "2  [-4.70053676e-02 -4.83233608e-02 -4.44145211e-...  \n",
       "3  [-2.84977206e-02 -3.40235705e-02  1.93536605e-...  \n",
       "4  [-2.28485476e-02 -2.61134372e-02  1.82272409e-...  "
      ]
     },
     "execution_count": 5,
     "metadata": {},
     "output_type": "execute_result"
    }
   ],
   "source": [
    "all_embeddings.head()"
   ]
  },
  {
   "cell_type": "code",
   "execution_count": 8,
   "id": "cf20be04-5927-4b97-8f2f-19ccc44b3504",
   "metadata": {},
   "outputs": [],
   "source": [
    "all_embeddings['embedding_avg'] = all_embeddings['embedding_avg'].apply(delete_newline)\n",
    "all_embeddings['embedding'] = all_embeddings['embedding'].apply(delete_newline)\n",
    "def string_to_array(s):\n",
    "    s = s[1:-1]\n",
    "    return np.fromstring(s, sep=' ')\n",
    "\n",
    "all_embeddings['embedding_avg'] = all_embeddings['embedding_avg'].apply(lambda x: string_to_array(x))\n",
    "all_embeddings['embedding'] = all_embeddings['embedding'].apply(lambda x: string_to_array(x))"
   ]
  },
  {
   "cell_type": "code",
   "execution_count": 27,
   "id": "33260e83-e463-40e6-875a-44cb783b3eff",
   "metadata": {},
   "outputs": [],
   "source": [
    "# pd.merge(all_embeddings, book_reviews[['book_id', 'review_text']], on = 'book_id', how = 'inner', suffixes=('', '_sentence')).rename({'review_text_sentence':'review_sentences'}).to_csv('book_info_reviews.csv')"
   ]
  },
  {
   "cell_type": "code",
   "execution_count": 9,
   "id": "6a6a5e0d-fa37-4f60-8dee-a0811c9f7c18",
   "metadata": {},
   "outputs": [
    {
     "data": {
      "text/html": [
       "<div>\n",
       "<style scoped>\n",
       "    .dataframe tbody tr th:only-of-type {\n",
       "        vertical-align: middle;\n",
       "    }\n",
       "\n",
       "    .dataframe tbody tr th {\n",
       "        vertical-align: top;\n",
       "    }\n",
       "\n",
       "    .dataframe thead th {\n",
       "        text-align: right;\n",
       "    }\n",
       "</style>\n",
       "<table border=\"1\" class=\"dataframe\">\n",
       "  <thead>\n",
       "    <tr style=\"text-align: right;\">\n",
       "      <th></th>\n",
       "      <th>title_without_series</th>\n",
       "      <th>review_text</th>\n",
       "      <th>image_url</th>\n",
       "      <th>ratings_count</th>\n",
       "      <th>publication_year</th>\n",
       "      <th>book_id</th>\n",
       "      <th>embedding</th>\n",
       "      <th>embedding_avg</th>\n",
       "    </tr>\n",
       "  </thead>\n",
       "  <tbody>\n",
       "    <tr>\n",
       "      <th>0</th>\n",
       "      <td>The Three-Body Problem (Remembrance of Earth’s...</td>\n",
       "      <td>special book started slow first third middle t...</td>\n",
       "      <td>https://images.gr-assets.com/books/1396560452m...</td>\n",
       "      <td>6336</td>\n",
       "      <td>2014.0</td>\n",
       "      <td>18245960</td>\n",
       "      <td>[-0.0485532992, -0.0753031746, 0.0261047315, 0...</td>\n",
       "      <td>[-0.0281490903, -0.0371139925, 0.031461437, 0....</td>\n",
       "    </tr>\n",
       "    <tr>\n",
       "      <th>1</th>\n",
       "      <td>Invisible Man</td>\n",
       "      <td>recommended katz avail free december httpwwwau...</td>\n",
       "      <td>https://images.gr-assets.com/books/1352854247m...</td>\n",
       "      <td>125232</td>\n",
       "      <td>1995.0</td>\n",
       "      <td>16981</td>\n",
       "      <td>[-0.0180614758, -0.0829957798, -0.0241010077, ...</td>\n",
       "      <td>[-0.0403356088, -0.0168729642, -0.00387732995,...</td>\n",
       "    </tr>\n",
       "    <tr>\n",
       "      <th>2</th>\n",
       "      <td>Dark Matter</td>\n",
       "      <td>fun fast paced science fiction thriller read 2...</td>\n",
       "      <td>https://images.gr-assets.com/books/1455140434m...</td>\n",
       "      <td>13990</td>\n",
       "      <td>2016.0</td>\n",
       "      <td>28684704</td>\n",
       "      <td>[0.00309772673, -0.0716256052, 0.00215179427, ...</td>\n",
       "      <td>[-0.0470053676, -0.0483233608, -0.000444145211...</td>\n",
       "    </tr>\n",
       "    <tr>\n",
       "      <th>3</th>\n",
       "      <td>Aurora</td>\n",
       "      <td>really enjoyed book lot recommend drag little ...</td>\n",
       "      <td>https://s.gr-assets.com/assets/nophoto/book/11...</td>\n",
       "      <td>1659</td>\n",
       "      <td>NaN</td>\n",
       "      <td>25884323</td>\n",
       "      <td>[0.0305729695, -0.0990650132, 0.0282321312, 0....</td>\n",
       "      <td>[-0.0284977206, -0.0340235705, 0.0193536605, 0...</td>\n",
       "    </tr>\n",
       "    <tr>\n",
       "      <th>4</th>\n",
       "      <td>All the Light We Cannot See</td>\n",
       "      <td>beautiful story rare encounter book good job p...</td>\n",
       "      <td>https://images.gr-assets.com/books/1440903901m...</td>\n",
       "      <td>53342</td>\n",
       "      <td>2014.0</td>\n",
       "      <td>19398490</td>\n",
       "      <td>[-0.0506621115, -0.0335502811, -0.0804223865, ...</td>\n",
       "      <td>[-0.0228485476, -0.0261134372, 0.0182272409, 0...</td>\n",
       "    </tr>\n",
       "  </tbody>\n",
       "</table>\n",
       "</div>"
      ],
      "text/plain": [
       "                                title_without_series  \\\n",
       "0  The Three-Body Problem (Remembrance of Earth’s...   \n",
       "1                                      Invisible Man   \n",
       "2                                        Dark Matter   \n",
       "3                                             Aurora   \n",
       "4                        All the Light We Cannot See   \n",
       "\n",
       "                                         review_text  \\\n",
       "0  special book started slow first third middle t...   \n",
       "1  recommended katz avail free december httpwwwau...   \n",
       "2  fun fast paced science fiction thriller read 2...   \n",
       "3  really enjoyed book lot recommend drag little ...   \n",
       "4  beautiful story rare encounter book good job p...   \n",
       "\n",
       "                                           image_url  ratings_count  \\\n",
       "0  https://images.gr-assets.com/books/1396560452m...           6336   \n",
       "1  https://images.gr-assets.com/books/1352854247m...         125232   \n",
       "2  https://images.gr-assets.com/books/1455140434m...          13990   \n",
       "3  https://s.gr-assets.com/assets/nophoto/book/11...           1659   \n",
       "4  https://images.gr-assets.com/books/1440903901m...          53342   \n",
       "\n",
       "   publication_year   book_id  \\\n",
       "0            2014.0  18245960   \n",
       "1            1995.0     16981   \n",
       "2            2016.0  28684704   \n",
       "3               NaN  25884323   \n",
       "4            2014.0  19398490   \n",
       "\n",
       "                                           embedding  \\\n",
       "0  [-0.0485532992, -0.0753031746, 0.0261047315, 0...   \n",
       "1  [-0.0180614758, -0.0829957798, -0.0241010077, ...   \n",
       "2  [0.00309772673, -0.0716256052, 0.00215179427, ...   \n",
       "3  [0.0305729695, -0.0990650132, 0.0282321312, 0....   \n",
       "4  [-0.0506621115, -0.0335502811, -0.0804223865, ...   \n",
       "\n",
       "                                       embedding_avg  \n",
       "0  [-0.0281490903, -0.0371139925, 0.031461437, 0....  \n",
       "1  [-0.0403356088, -0.0168729642, -0.00387732995,...  \n",
       "2  [-0.0470053676, -0.0483233608, -0.000444145211...  \n",
       "3  [-0.0284977206, -0.0340235705, 0.0193536605, 0...  \n",
       "4  [-0.0228485476, -0.0261134372, 0.0182272409, 0...  "
      ]
     },
     "execution_count": 9,
     "metadata": {},
     "output_type": "execute_result"
    }
   ],
   "source": [
    "all_embeddings.head()"
   ]
  },
  {
   "cell_type": "code",
   "execution_count": 2,
   "id": "551ae771-7b06-4125-80bb-d544819c37e6",
   "metadata": {},
   "outputs": [],
   "source": [
    "# merged_dataset = pd.merge(all_embeddings[['title_without_series', \n",
    "#                                           'image_url', 'ratings_count', \n",
    "#                                           'publication_year', 'book_id', \n",
    "#                                           'embedding', 'embedding_avg']], book_reviews[['book_id', 'rating', 'review_text']], on = 'book_id',\n",
    "#                           how = 'left')\n",
    "# merged_dataset['embedding'] = all_embeddings['embedding']\n",
    "# merged_dataset['review_text_edited'] = all_embeddings['review_text']\n",
    "# merged_dataset.head()"
   ]
  },
  {
   "cell_type": "code",
   "execution_count": 7,
   "id": "4e6defc0-5378-412b-87db-2da6c5e9c18e",
   "metadata": {},
   "outputs": [],
   "source": [
    "# book_data_updated = pd.read_csv('book_data_updated.csv')\n",
    "# book_df = pd.merge(merged_dataset, book_data_updated, on = 'review_text', how = 'inner')\n",
    "# book_data_updated.drop(columns = ['row_index'], inplace = True)\n",
    "# book_df.dropna(subset=['embedding', 'publication_year', 'review_text_edited'], inplace=True)\n",
    "# book_df.drop_duplicates(subset=['review_text'], inplace=True)"
   ]
  },
  {
   "cell_type": "code",
   "execution_count": 18,
   "id": "827ef846-44f9-476c-ad2e-3a601938fe93",
   "metadata": {},
   "outputs": [],
   "source": [
    "# book_df = pd.read_csv('book_df.csv')\n",
    "# book_df.drop('Unnamed: 0', axis=1, inplace=True)\n",
    "# book_df = pd.merge(book_df, tfidf_df[['tfidf_array']], on = 'title_without_series', how = 'left')\n",
    "# book_df['embedding_avg'] = book_df['embedding_avg'].apply(delete_newline)\n",
    "# book_df['embedding'] = book_df['embedding'].apply(delete_newline)\n",
    "# def string_to_array(s):\n",
    "#     s = s[1:-1]\n",
    "#     return np.fromstring(s, sep=' ')\n",
    "# book_df['embedding_avg'] = book_df['embedding_avg'].apply(lambda x: string_to_array(x))\n",
    "# book_df['embedding'] = book_df['embedding'].apply(lambda x: string_to_array(x))\n",
    "# combined_vectors = np.hstack((book_df['tfidf_array'].values.reshape(-1, 1), book_df['embedding_avg'].values.reshape(-1, 1)))\n",
    "# book_df['combined_vector_avg'] = combined_vectors.tolist()\n",
    "# book_df['combined_vector_avg'] = book_df['combined_vector_avg'].apply(lambda x: np.concatenate([x[0], x[1]]))\n",
    "# book_df.drop(columns = ['vader_neg', 'vader_neu', 'vader_pos', 'vader_compound'], inplace = True)"
   ]
  },
  {
   "cell_type": "code",
   "execution_count": 7,
   "id": "0c159ee2-f9e4-4924-a075-ec83ff0fc920",
   "metadata": {},
   "outputs": [
    {
     "ename": "NameError",
     "evalue": "name 'book_df' is not defined",
     "output_type": "error",
     "traceback": [
      "\u001b[0;31m---------------------------------------------------------------------------\u001b[0m",
      "\u001b[0;31mNameError\u001b[0m                                 Traceback (most recent call last)",
      "Cell \u001b[0;32mIn[7], line 30\u001b[0m\n\u001b[1;32m     26\u001b[0m     book_data[\u001b[38;5;124m'\u001b[39m\u001b[38;5;124mtfidf_array\u001b[39m\u001b[38;5;124m'\u001b[39m] \u001b[38;5;241m=\u001b[39m book_data[\u001b[38;5;124m'\u001b[39m\u001b[38;5;124mtfidf_array\u001b[39m\u001b[38;5;124m'\u001b[39m]\u001b[38;5;241m.\u001b[39mapply(\u001b[38;5;28;01mlambda\u001b[39;00m x: string_to_array(x))\n\u001b[1;32m     28\u001b[0m     \u001b[38;5;28;01mreturn\u001b[39;00m book_data\n\u001b[0;32m---> 30\u001b[0m \u001b[38;5;28;01mdef\u001b[39;00m \u001b[38;5;21mrecommend_books\u001b[39m(user_book, book_df \u001b[38;5;241m=\u001b[39m book_df, top_n \u001b[38;5;241m=\u001b[39m \u001b[38;5;241m5\u001b[39m):\n\u001b[1;32m     31\u001b[0m     user_array \u001b[38;5;241m=\u001b[39m book_df[book_df[\u001b[38;5;124m'\u001b[39m\u001b[38;5;124mtitle_without_series\u001b[39m\u001b[38;5;124m'\u001b[39m] \u001b[38;5;241m==\u001b[39m user_book][\u001b[38;5;124m'\u001b[39m\u001b[38;5;124mtfidf_array\u001b[39m\u001b[38;5;124m'\u001b[39m]\u001b[38;5;241m.\u001b[39miloc[\u001b[38;5;241m0\u001b[39m]\n\u001b[1;32m     32\u001b[0m     other_array \u001b[38;5;241m=\u001b[39m np\u001b[38;5;241m.\u001b[39marray(book_df[book_df[\u001b[38;5;124m'\u001b[39m\u001b[38;5;124mtitle_without_series\u001b[39m\u001b[38;5;124m'\u001b[39m] \u001b[38;5;241m!=\u001b[39m user_book][\u001b[38;5;124m'\u001b[39m\u001b[38;5;124mtfidf_array\u001b[39m\u001b[38;5;124m'\u001b[39m])\n",
      "\u001b[0;31mNameError\u001b[0m: name 'book_df' is not defined"
     ]
    }
   ],
   "source": [
    "def string_to_array(s):\n",
    "    s = s[1:-1]\n",
    "    return np.fromstring(s, sep=' ')\n",
    "\n",
    "def string_to_array(s):\n",
    "    s = s[1:-1]\n",
    "    return np.fromstring(s, sep=' ')\n",
    "\n",
    "f = (lambda x: x if x != '\\n' else '')\n",
    "def delete_newline(sentence):\n",
    "    words = sentence.split()\n",
    "    result = [f(word) for word in words]\n",
    "    return ' '.join(result)\n",
    "    \n",
    "def load_book_data():\n",
    "    book_data = pd.read_csv('book_df.csv')\n",
    "    book_data.drop('Unnamed: 0', axis=1, inplace=True)\n",
    "    \n",
    "    book_data['embedding_avg'] = book_data['embedding_avg'].apply(delete_newline)\n",
    "    book_data['embedding'] = book_data['embedding'].apply(delete_newline)\n",
    "\n",
    "    book_data['embedding_avg'] = book_data['embedding_avg'].apply(lambda x: string_to_array(x))\n",
    "    book_data['embedding'] = book_data['embedding'].apply(lambda x: string_to_array(x))\n",
    "\n",
    "    book_data['tfidf_array'] = book_data['tfidf_array'].apply(delete_newline)\n",
    "    book_data['tfidf_array'] = book_data['tfidf_array'].apply(lambda x: string_to_array(x))\n",
    "    \n",
    "    return book_data\n",
    "\n",
    "def recommend_books(user_book, book_df = book_df, top_n = 5):\n",
    "    user_array = book_df[book_df['title_without_series'] == user_book]['tfidf_array'].iloc[0]\n",
    "    other_array = np.array(book_df[book_df['title_without_series'] != user_book]['tfidf_array'])\n",
    "    cos_sim = cosine_similarity(user_array.reshape((1, -1)), np.vstack(other_array))\n",
    "    indices = np.argsort(cos_sim.flatten())[::-1]\n",
    "    return book_df.iloc[indices]['title_without_series'].unique()[:top_n].tolist()\n",
    "    #return pd.DataFrame(cos_sim.flatten()[indices].reshape(-1, 1), columns = ['Similarity Score'], \n",
    "             # index = book_df.iloc[indices]['title_without_series'])\n"
   ]
  },
  {
   "cell_type": "code",
   "execution_count": 15,
   "id": "27815f50-4a5a-4887-9a09-e37fd65f410d",
   "metadata": {},
   "outputs": [],
   "source": [
    "book_df = load_book_data()"
   ]
  },
  {
   "cell_type": "code",
   "execution_count": 24,
   "id": "fbec6258-27f9-49fd-9291-55f852382550",
   "metadata": {},
   "outputs": [
    {
     "data": {
      "text/plain": [
       "['City of Bones (The Mortal Instruments, #1)',\n",
       " 'The Lost World (Professor Challenger, #1)',\n",
       " 'Burned (Fever, #7)',\n",
       " 'The Forgotten Ones (The Danaan Trilogy, #1)',\n",
       " 'The Maze Runner (Maze Runner, #1)']"
      ]
     },
     "execution_count": 24,
     "metadata": {},
     "output_type": "execute_result"
    }
   ],
   "source": [
    "recommend_books('The Lightning Thief (Percy Jackson and the Olympians, #1)', book_df, 5)"
   ]
  },
  {
   "cell_type": "code",
   "execution_count": 25,
   "id": "871eedc2-865f-40d3-8f43-116de84baf48",
   "metadata": {},
   "outputs": [
    {
     "data": {
      "text/html": [
       "<div>\n",
       "<style scoped>\n",
       "    .dataframe tbody tr th:only-of-type {\n",
       "        vertical-align: middle;\n",
       "    }\n",
       "\n",
       "    .dataframe tbody tr th {\n",
       "        vertical-align: top;\n",
       "    }\n",
       "\n",
       "    .dataframe thead th {\n",
       "        text-align: right;\n",
       "    }\n",
       "</style>\n",
       "<table border=\"1\" class=\"dataframe\">\n",
       "  <thead>\n",
       "    <tr style=\"text-align: right;\">\n",
       "      <th></th>\n",
       "      <th>title_without_series</th>\n",
       "      <th>image_url</th>\n",
       "      <th>ratings_count</th>\n",
       "      <th>publication_year</th>\n",
       "      <th>book_id</th>\n",
       "      <th>embedding</th>\n",
       "      <th>embedding_avg</th>\n",
       "      <th>rating</th>\n",
       "      <th>review_text</th>\n",
       "      <th>review_text_edited</th>\n",
       "      <th>roberta_neg</th>\n",
       "      <th>roberta_neu</th>\n",
       "      <th>roberta_pos</th>\n",
       "      <th>tfidf_array</th>\n",
       "    </tr>\n",
       "  </thead>\n",
       "  <tbody>\n",
       "    <tr>\n",
       "      <th>0</th>\n",
       "      <td>The Three-Body Problem (Remembrance of Earth’s...</td>\n",
       "      <td>https://images.gr-assets.com/books/1396560452m...</td>\n",
       "      <td>6336</td>\n",
       "      <td>2014.0</td>\n",
       "      <td>18245960</td>\n",
       "      <td>[-0.0485532992, -0.0753031746, 0.0261047315, 0...</td>\n",
       "      <td>[-0.0281490903, -0.0371139925, 0.031461437, 0....</td>\n",
       "      <td>5</td>\n",
       "      <td>This is a special book. It started slow for ab...</td>\n",
       "      <td>special book started slow first third middle t...</td>\n",
       "      <td>0.084434</td>\n",
       "      <td>0.323424</td>\n",
       "      <td>0.592142</td>\n",
       "      <td>[0.0, 0.0, 0.0, 0.0, 0.00279928, 0.00323278, 0...</td>\n",
       "    </tr>\n",
       "    <tr>\n",
       "      <th>1</th>\n",
       "      <td>The Three-Body Problem (Remembrance of Earth’s...</td>\n",
       "      <td>https://images.gr-assets.com/books/1396560452m...</td>\n",
       "      <td>6336</td>\n",
       "      <td>2014.0</td>\n",
       "      <td>18245960</td>\n",
       "      <td>[-0.0180614758, -0.0829957798, -0.0241010077, ...</td>\n",
       "      <td>[-0.0281490903, -0.0371139925, 0.031461437, 0....</td>\n",
       "      <td>3</td>\n",
       "      <td>Average between the 4 star concepts (overall p...</td>\n",
       "      <td>recommended katz avail free december httpwwwau...</td>\n",
       "      <td>0.614205</td>\n",
       "      <td>0.318760</td>\n",
       "      <td>0.067036</td>\n",
       "      <td>[0.0, 0.0, 0.0, 0.0, 0.00279928, 0.00323278, 0...</td>\n",
       "    </tr>\n",
       "    <tr>\n",
       "      <th>2</th>\n",
       "      <td>The Three-Body Problem (Remembrance of Earth’s...</td>\n",
       "      <td>https://images.gr-assets.com/books/1396560452m...</td>\n",
       "      <td>6336</td>\n",
       "      <td>2014.0</td>\n",
       "      <td>18245960</td>\n",
       "      <td>[0.00309772673, -0.0716256052, 0.00215179427, ...</td>\n",
       "      <td>[-0.0281490903, -0.0371139925, 0.031461437, 0....</td>\n",
       "      <td>5</td>\n",
       "      <td>A really refreshing take on science fiction an...</td>\n",
       "      <td>fun fast paced science fiction thriller read 2...</td>\n",
       "      <td>0.165671</td>\n",
       "      <td>0.516680</td>\n",
       "      <td>0.317649</td>\n",
       "      <td>[0.0, 0.0, 0.0, 0.0, 0.00279928, 0.00323278, 0...</td>\n",
       "    </tr>\n",
       "    <tr>\n",
       "      <th>3</th>\n",
       "      <td>Invisible Man</td>\n",
       "      <td>https://images.gr-assets.com/books/1352854247m...</td>\n",
       "      <td>125232</td>\n",
       "      <td>1995.0</td>\n",
       "      <td>16981</td>\n",
       "      <td>[-0.0506621115, -0.0335502811, -0.0804223865, ...</td>\n",
       "      <td>[-0.0403356088, -0.0168729642, -0.00387732995,...</td>\n",
       "      <td>3</td>\n",
       "      <td>Recommended by Don Katz. Avail for free in Dec...</td>\n",
       "      <td>beautiful story rare encounter book good job p...</td>\n",
       "      <td>0.006479</td>\n",
       "      <td>0.813258</td>\n",
       "      <td>0.180263</td>\n",
       "      <td>[0.0, 0.0, 0.0, 0.0, 0.0, 0.0, 0.0, 0.0, 0.0, ...</td>\n",
       "    </tr>\n",
       "    <tr>\n",
       "      <th>4</th>\n",
       "      <td>Invisible Man</td>\n",
       "      <td>https://images.gr-assets.com/books/1352854247m...</td>\n",
       "      <td>125232</td>\n",
       "      <td>1995.0</td>\n",
       "      <td>16981</td>\n",
       "      <td>[-0.119123802, 0.0692784712, -0.0157877449, 0....</td>\n",
       "      <td>[-0.0403356088, -0.0168729642, -0.00387732995,...</td>\n",
       "      <td>4</td>\n",
       "      <td>This book was actually good, so long though ha...</td>\n",
       "      <td>5 star giving better framework organize stuff ...</td>\n",
       "      <td>0.001556</td>\n",
       "      <td>0.013568</td>\n",
       "      <td>0.984876</td>\n",
       "      <td>[0.0, 0.0, 0.0, 0.0, 0.0, 0.0, 0.0, 0.0, 0.0, ...</td>\n",
       "    </tr>\n",
       "  </tbody>\n",
       "</table>\n",
       "</div>"
      ],
      "text/plain": [
       "                                title_without_series  \\\n",
       "0  The Three-Body Problem (Remembrance of Earth’s...   \n",
       "1  The Three-Body Problem (Remembrance of Earth’s...   \n",
       "2  The Three-Body Problem (Remembrance of Earth’s...   \n",
       "3                                      Invisible Man   \n",
       "4                                      Invisible Man   \n",
       "\n",
       "                                           image_url  ratings_count  \\\n",
       "0  https://images.gr-assets.com/books/1396560452m...           6336   \n",
       "1  https://images.gr-assets.com/books/1396560452m...           6336   \n",
       "2  https://images.gr-assets.com/books/1396560452m...           6336   \n",
       "3  https://images.gr-assets.com/books/1352854247m...         125232   \n",
       "4  https://images.gr-assets.com/books/1352854247m...         125232   \n",
       "\n",
       "   publication_year   book_id  \\\n",
       "0            2014.0  18245960   \n",
       "1            2014.0  18245960   \n",
       "2            2014.0  18245960   \n",
       "3            1995.0     16981   \n",
       "4            1995.0     16981   \n",
       "\n",
       "                                           embedding  \\\n",
       "0  [-0.0485532992, -0.0753031746, 0.0261047315, 0...   \n",
       "1  [-0.0180614758, -0.0829957798, -0.0241010077, ...   \n",
       "2  [0.00309772673, -0.0716256052, 0.00215179427, ...   \n",
       "3  [-0.0506621115, -0.0335502811, -0.0804223865, ...   \n",
       "4  [-0.119123802, 0.0692784712, -0.0157877449, 0....   \n",
       "\n",
       "                                       embedding_avg  rating  \\\n",
       "0  [-0.0281490903, -0.0371139925, 0.031461437, 0....       5   \n",
       "1  [-0.0281490903, -0.0371139925, 0.031461437, 0....       3   \n",
       "2  [-0.0281490903, -0.0371139925, 0.031461437, 0....       5   \n",
       "3  [-0.0403356088, -0.0168729642, -0.00387732995,...       3   \n",
       "4  [-0.0403356088, -0.0168729642, -0.00387732995,...       4   \n",
       "\n",
       "                                         review_text  \\\n",
       "0  This is a special book. It started slow for ab...   \n",
       "1  Average between the 4 star concepts (overall p...   \n",
       "2  A really refreshing take on science fiction an...   \n",
       "3  Recommended by Don Katz. Avail for free in Dec...   \n",
       "4  This book was actually good, so long though ha...   \n",
       "\n",
       "                                  review_text_edited  roberta_neg  \\\n",
       "0  special book started slow first third middle t...     0.084434   \n",
       "1  recommended katz avail free december httpwwwau...     0.614205   \n",
       "2  fun fast paced science fiction thriller read 2...     0.165671   \n",
       "3  beautiful story rare encounter book good job p...     0.006479   \n",
       "4  5 star giving better framework organize stuff ...     0.001556   \n",
       "\n",
       "   roberta_neu  roberta_pos                                        tfidf_array  \n",
       "0     0.323424     0.592142  [0.0, 0.0, 0.0, 0.0, 0.00279928, 0.00323278, 0...  \n",
       "1     0.318760     0.067036  [0.0, 0.0, 0.0, 0.0, 0.00279928, 0.00323278, 0...  \n",
       "2     0.516680     0.317649  [0.0, 0.0, 0.0, 0.0, 0.00279928, 0.00323278, 0...  \n",
       "3     0.813258     0.180263  [0.0, 0.0, 0.0, 0.0, 0.0, 0.0, 0.0, 0.0, 0.0, ...  \n",
       "4     0.013568     0.984876  [0.0, 0.0, 0.0, 0.0, 0.0, 0.0, 0.0, 0.0, 0.0, ...  "
      ]
     },
     "execution_count": 25,
     "metadata": {},
     "output_type": "execute_result"
    }
   ],
   "source": [
    "book_df.head()"
   ]
  },
  {
   "cell_type": "code",
   "execution_count": null,
   "id": "e8e01f05-c74c-4c84-8976-f627bf5f38e2",
   "metadata": {},
   "outputs": [],
   "source": [
    "book_df.loc[book_df['title_without_series'] == title]['image_url'].iloc[0]\n",
    "    if not row.empty:\n",
    "        return row['Image_URL'].iloc[0]"
   ]
  },
  {
   "cell_type": "code",
   "execution_count": 37,
   "id": "be0b26d2-2f2c-4cc9-aed5-49317f5729a8",
   "metadata": {},
   "outputs": [],
   "source": [
    "def recommend_books_st(user_book, embedding_df, top_n = 5):\n",
    "    user_embeddings = embedding_df[embedding_df['title_without_series'] == user_book]['embedding_avg'].iloc[0]\n",
    "    other_embeddings = np.array(all_embeddings[all_embeddings['title_without_series'] != user_book]['embedding'])\n",
    "    cos_sim = cosine_similarity(user_embeddings.reshape((1, -1)), np.vstack(other_embeddings))\n",
    "    indices = np.argsort(cos_sim.flatten())[::-1][:top_n]\n",
    "    #return embedding_df.iloc[indices]['title_without_series']\n",
    "    return pd.DataFrame(cos_sim.flatten()[indices].reshape(-1, 1), columns = ['Similarity Score'], \n",
    "             index = all_embeddings.iloc[indices]['title_without_series'])"
   ]
  },
  {
   "cell_type": "markdown",
   "id": "7c703d38-b761-4124-ab4c-d4983bd0a274",
   "metadata": {},
   "source": [
    "### Example Book Review"
   ]
  },
  {
   "cell_type": "code",
   "execution_count": 60,
   "id": "b8d45fd8-b580-4d5b-baab-c28699272187",
   "metadata": {},
   "outputs": [],
   "source": [
    "ex_book_rev = all_embeddings[all_embeddings['book_id'] == 1]['embedding_avg'].iloc[0]"
   ]
  },
  {
   "cell_type": "code",
   "execution_count": 61,
   "id": "c499bc44-7c50-4ba7-bfa0-e6a96bc2ca37",
   "metadata": {},
   "outputs": [],
   "source": [
    "ex_other_book_rev = all_embeddings[all_embeddings['book_id'] != 1]['embedding']\n",
    "# ex_other_book_rev = np.array(all_embeddings[all_embeddings['book_id'] != 1]['embedding'])"
   ]
  },
  {
   "cell_type": "code",
   "execution_count": 62,
   "id": "7c498c55-b556-45dc-b17d-5b680d63c7f0",
   "metadata": {
    "scrolled": true
   },
   "outputs": [],
   "source": [
    "#similarity_array = \n",
    "ex_cos_sim = cosine_similarity(ex_book_rev.reshape((1, -1)), np.vstack(ex_other_book_rev))"
   ]
  },
  {
   "cell_type": "code",
   "execution_count": 64,
   "id": "a49a9d9b-e528-4a06-ba75-ed92070d71ff",
   "metadata": {},
   "outputs": [],
   "source": [
    "ex_indices = np.argsort(ex_cos_sim.flatten())[::-1][:5]"
   ]
  },
  {
   "cell_type": "code",
   "execution_count": 72,
   "id": "209165c8-b565-4488-8f99-0537e620a0cc",
   "metadata": {},
   "outputs": [
    {
     "data": {
      "text/plain": [
       "(5,)"
      ]
     },
     "execution_count": 72,
     "metadata": {},
     "output_type": "execute_result"
    }
   ],
   "source": [
    "ex_cos_sim.flatten()[ex_indices].shape"
   ]
  },
  {
   "cell_type": "code",
   "execution_count": 112,
   "id": "817fd654-9c5f-4dbe-a2bb-be735e66534a",
   "metadata": {},
   "outputs": [
    {
     "data": {
      "text/html": [
       "<div>\n",
       "<style scoped>\n",
       "    .dataframe tbody tr th:only-of-type {\n",
       "        vertical-align: middle;\n",
       "    }\n",
       "\n",
       "    .dataframe tbody tr th {\n",
       "        vertical-align: top;\n",
       "    }\n",
       "\n",
       "    .dataframe thead th {\n",
       "        text-align: right;\n",
       "    }\n",
       "</style>\n",
       "<table border=\"1\" class=\"dataframe\">\n",
       "  <thead>\n",
       "    <tr style=\"text-align: right;\">\n",
       "      <th></th>\n",
       "      <th>Similarity Score</th>\n",
       "    </tr>\n",
       "    <tr>\n",
       "      <th>title_without_series</th>\n",
       "      <th></th>\n",
       "    </tr>\n",
       "  </thead>\n",
       "  <tbody>\n",
       "    <tr>\n",
       "      <th>Shadow of the Hegemon (Ender's Shadow, #2)</th>\n",
       "      <td>0.826491</td>\n",
       "    </tr>\n",
       "    <tr>\n",
       "      <th>My Life Next Door</th>\n",
       "      <td>0.825573</td>\n",
       "    </tr>\n",
       "    <tr>\n",
       "      <th>Fire Burn and Cauldron Bubble (Jolie Wilkins, #1)</th>\n",
       "      <td>0.814824</td>\n",
       "    </tr>\n",
       "    <tr>\n",
       "      <th>The Host (The Host, #1)</th>\n",
       "      <td>0.811443</td>\n",
       "    </tr>\n",
       "    <tr>\n",
       "      <th>The Book Thief</th>\n",
       "      <td>0.809902</td>\n",
       "    </tr>\n",
       "  </tbody>\n",
       "</table>\n",
       "</div>"
      ],
      "text/plain": [
       "                                                   Similarity Score\n",
       "title_without_series                                               \n",
       "Shadow of the Hegemon (Ender's Shadow, #2)                 0.826491\n",
       "My Life Next Door                                          0.825573\n",
       "Fire Burn and Cauldron Bubble (Jolie Wilkins, #1)          0.814824\n",
       "The Host (The Host, #1)                                    0.811443\n",
       "The Book Thief                                             0.809902"
      ]
     },
     "execution_count": 112,
     "metadata": {},
     "output_type": "execute_result"
    }
   ],
   "source": [
    "pd.DataFrame(ex_cos_sim.flatten()[ex_indices].reshape(-1, 1), columns = ['Similarity Score'], \n",
    "             index = all_embeddings.iloc[ex_indices]['title_without_series'])"
   ]
  },
  {
   "cell_type": "code",
   "execution_count": 113,
   "id": "6134f806-52ff-43fd-b57a-4e3e7b25aedf",
   "metadata": {},
   "outputs": [
    {
     "data": {
      "text/plain": [
       "26765           Shadow of the Hegemon (Ender's Shadow, #2)\n",
       "28323                                    My Life Next Door\n",
       "23218    Fire Burn and Cauldron Bubble (Jolie Wilkins, #1)\n",
       "43011                              The Host (The Host, #1)\n",
       "18632                                       The Book Thief\n",
       "Name: title_without_series, dtype: object"
      ]
     },
     "execution_count": 113,
     "metadata": {},
     "output_type": "execute_result"
    }
   ],
   "source": [
    "all_embeddings.iloc[ex_indices]['title_without_series']"
   ]
  },
  {
   "cell_type": "markdown",
   "id": "34dbd878-23f3-4fb1-a1bb-817902ce27a9",
   "metadata": {},
   "source": [
    "### Testing function"
   ]
  },
  {
   "cell_type": "code",
   "execution_count": 41,
   "id": "75855caf-be65-4a21-885d-cba5fc82c6af",
   "metadata": {},
   "outputs": [
    {
     "data": {
      "text/html": [
       "<div>\n",
       "<style scoped>\n",
       "    .dataframe tbody tr th:only-of-type {\n",
       "        vertical-align: middle;\n",
       "    }\n",
       "\n",
       "    .dataframe tbody tr th {\n",
       "        vertical-align: top;\n",
       "    }\n",
       "\n",
       "    .dataframe thead th {\n",
       "        text-align: right;\n",
       "    }\n",
       "</style>\n",
       "<table border=\"1\" class=\"dataframe\">\n",
       "  <thead>\n",
       "    <tr style=\"text-align: right;\">\n",
       "      <th></th>\n",
       "      <th>Similarity Score</th>\n",
       "    </tr>\n",
       "    <tr>\n",
       "      <th>title_without_series</th>\n",
       "      <th></th>\n",
       "    </tr>\n",
       "  </thead>\n",
       "  <tbody>\n",
       "    <tr>\n",
       "      <th>Revived</th>\n",
       "      <td>0.816363</td>\n",
       "    </tr>\n",
       "    <tr>\n",
       "      <th>Reached (Matched, #3)</th>\n",
       "      <td>0.803060</td>\n",
       "    </tr>\n",
       "    <tr>\n",
       "      <th>The Red Pyramid (Kane Chronicles, #1)</th>\n",
       "      <td>0.800745</td>\n",
       "    </tr>\n",
       "    <tr>\n",
       "      <th>The Naked Sun (Robot #2)</th>\n",
       "      <td>0.799807</td>\n",
       "    </tr>\n",
       "    <tr>\n",
       "      <th>Moon Over Soho (Peter Grant, #2)</th>\n",
       "      <td>0.798635</td>\n",
       "    </tr>\n",
       "  </tbody>\n",
       "</table>\n",
       "</div>"
      ],
      "text/plain": [
       "                                       Similarity Score\n",
       "title_without_series                                   \n",
       "Revived                                        0.816363\n",
       "Reached (Matched, #3)                          0.803060\n",
       "The Red Pyramid (Kane Chronicles, #1)          0.800745\n",
       "The Naked Sun (Robot #2)                       0.799807\n",
       "Moon Over Soho (Peter Grant, #2)               0.798635"
      ]
     },
     "execution_count": 41,
     "metadata": {},
     "output_type": "execute_result"
    }
   ],
   "source": [
    "recommend_books_st('The Lightning Thief (Percy Jackson and the Olympians, #1)', all_embeddings, 5)"
   ]
  },
  {
   "cell_type": "code",
   "execution_count": 115,
   "id": "0fb4c921-b02c-4f97-83a9-c469e00c2a70",
   "metadata": {},
   "outputs": [
    {
     "data": {
      "text/html": [
       "<div>\n",
       "<style scoped>\n",
       "    .dataframe tbody tr th:only-of-type {\n",
       "        vertical-align: middle;\n",
       "    }\n",
       "\n",
       "    .dataframe tbody tr th {\n",
       "        vertical-align: top;\n",
       "    }\n",
       "\n",
       "    .dataframe thead th {\n",
       "        text-align: right;\n",
       "    }\n",
       "</style>\n",
       "<table border=\"1\" class=\"dataframe\">\n",
       "  <thead>\n",
       "    <tr style=\"text-align: right;\">\n",
       "      <th></th>\n",
       "      <th>Similarity Score</th>\n",
       "    </tr>\n",
       "    <tr>\n",
       "      <th>title_without_series</th>\n",
       "      <th></th>\n",
       "    </tr>\n",
       "  </thead>\n",
       "  <tbody>\n",
       "    <tr>\n",
       "      <th>2001: A Space Odyssey (Space Odyssey, #1)</th>\n",
       "      <td>0.851708</td>\n",
       "    </tr>\n",
       "    <tr>\n",
       "      <th>Neverwhere</th>\n",
       "      <td>0.842104</td>\n",
       "    </tr>\n",
       "    <tr>\n",
       "      <th>Prince of Thorns (The Broken Empire, #1)</th>\n",
       "      <td>0.838078</td>\n",
       "    </tr>\n",
       "    <tr>\n",
       "      <th>A Game of Thrones (A Song of Ice and Fire, #1)</th>\n",
       "      <td>0.825825</td>\n",
       "    </tr>\n",
       "    <tr>\n",
       "      <th>When Breath Becomes Air</th>\n",
       "      <td>0.822636</td>\n",
       "    </tr>\n",
       "  </tbody>\n",
       "</table>\n",
       "</div>"
      ],
      "text/plain": [
       "                                                Similarity Score\n",
       "title_without_series                                            \n",
       "2001: A Space Odyssey (Space Odyssey, #1)               0.851708\n",
       "Neverwhere                                              0.842104\n",
       "Prince of Thorns (The Broken Empire, #1)                0.838078\n",
       "A Game of Thrones (A Song of Ice and Fire, #1)          0.825825\n",
       "When Breath Becomes Air                                 0.822636"
      ]
     },
     "execution_count": 115,
     "metadata": {},
     "output_type": "execute_result"
    }
   ],
   "source": [
    "recommend_books_st('Harry Potter and the Sorcerer\\'s Stone (Harry Potter, #1)', all_embeddings, 5)"
   ]
  },
  {
   "cell_type": "code",
   "execution_count": 116,
   "id": "55be3578-3184-40f9-8ab5-d9a59ecb89c4",
   "metadata": {},
   "outputs": [
    {
     "data": {
      "text/html": [
       "<div>\n",
       "<style scoped>\n",
       "    .dataframe tbody tr th:only-of-type {\n",
       "        vertical-align: middle;\n",
       "    }\n",
       "\n",
       "    .dataframe tbody tr th {\n",
       "        vertical-align: top;\n",
       "    }\n",
       "\n",
       "    .dataframe thead th {\n",
       "        text-align: right;\n",
       "    }\n",
       "</style>\n",
       "<table border=\"1\" class=\"dataframe\">\n",
       "  <thead>\n",
       "    <tr style=\"text-align: right;\">\n",
       "      <th></th>\n",
       "      <th>Similarity Score</th>\n",
       "    </tr>\n",
       "    <tr>\n",
       "      <th>title_without_series</th>\n",
       "      <th></th>\n",
       "    </tr>\n",
       "  </thead>\n",
       "  <tbody>\n",
       "    <tr>\n",
       "      <th>Every Day (Every Day, #1)</th>\n",
       "      <td>0.847821</td>\n",
       "    </tr>\n",
       "    <tr>\n",
       "      <th>Snow Crash</th>\n",
       "      <td>0.841065</td>\n",
       "    </tr>\n",
       "    <tr>\n",
       "      <th>A Game of Thrones (A Song of Ice and Fire, #1)</th>\n",
       "      <td>0.831314</td>\n",
       "    </tr>\n",
       "    <tr>\n",
       "      <th>Beauty and the Blacksmith  (Spindle Cove, #3.5)</th>\n",
       "      <td>0.826326</td>\n",
       "    </tr>\n",
       "    <tr>\n",
       "      <th>Carry On</th>\n",
       "      <td>0.826081</td>\n",
       "    </tr>\n",
       "  </tbody>\n",
       "</table>\n",
       "</div>"
      ],
      "text/plain": [
       "                                                 Similarity Score\n",
       "title_without_series                                             \n",
       "Every Day (Every Day, #1)                                0.847821\n",
       "Snow Crash                                               0.841065\n",
       "A Game of Thrones (A Song of Ice and Fire, #1)           0.831314\n",
       "Beauty and the Blacksmith  (Spindle Cove, #3.5)          0.826326\n",
       "Carry On                                                 0.826081"
      ]
     },
     "execution_count": 116,
     "metadata": {},
     "output_type": "execute_result"
    }
   ],
   "source": [
    "recommend_books_st(\"The Hunger Games (The Hunger Games, #1)\", all_embeddings, 5)"
   ]
  },
  {
   "cell_type": "markdown",
   "id": "8e8fa953-354d-4aa2-9e66-44af15d130ae",
   "metadata": {},
   "source": [
    "## Genre Feature"
   ]
  },
  {
   "cell_type": "markdown",
   "id": "62524f6d-fabe-4bb4-a46a-71c8fc6b483f",
   "metadata": {},
   "source": [
    "Loading the Dataset"
   ]
  },
  {
   "cell_type": "code",
   "execution_count": 86,
   "id": "085c5bc9-5db0-4da1-9217-bb61149407f0",
   "metadata": {},
   "outputs": [
    {
     "ename": "NameError",
     "evalue": "name 'DIR' is not defined",
     "output_type": "error",
     "traceback": [
      "\u001b[0;31m---------------------------------------------------------------------------\u001b[0m",
      "\u001b[0;31mNameError\u001b[0m                                 Traceback (most recent call last)",
      "Cell \u001b[0;32mIn[86], line 1\u001b[0m\n\u001b[0;32m----> 1\u001b[0m book_genres \u001b[38;5;241m=\u001b[39m load_data(os\u001b[38;5;241m.\u001b[39mpath\u001b[38;5;241m.\u001b[39mjoin(DIR, \u001b[38;5;124m'\u001b[39m\u001b[38;5;124mgoodreads_book_genres_initial.json.gz\u001b[39m\u001b[38;5;124m'\u001b[39m))\n",
      "\u001b[0;31mNameError\u001b[0m: name 'DIR' is not defined"
     ]
    }
   ],
   "source": [
    "book_genres = load_data(os.path.join(DIR, 'goodreads_book_genres_initial.json.gz'))"
   ]
  },
  {
   "cell_type": "code",
   "execution_count": 85,
   "id": "62c58f76-ce2f-4ad7-9b46-ee37b589c193",
   "metadata": {},
   "outputs": [
    {
     "ename": "NameError",
     "evalue": "name 'book_genres' is not defined",
     "output_type": "error",
     "traceback": [
      "\u001b[0;31m---------------------------------------------------------------------------\u001b[0m",
      "\u001b[0;31mNameError\u001b[0m                                 Traceback (most recent call last)",
      "Cell \u001b[0;32mIn[85], line 1\u001b[0m\n\u001b[0;32m----> 1\u001b[0m book_genres \u001b[38;5;241m=\u001b[39m pd\u001b[38;5;241m.\u001b[39mDataFrame(book_genres)\n\u001b[1;32m      2\u001b[0m book_genres\u001b[38;5;241m.\u001b[39mhead()\n",
      "\u001b[0;31mNameError\u001b[0m: name 'book_genres' is not defined"
     ]
    }
   ],
   "source": [
    "book_genres = pd.DataFrame(book_genres)\n",
    "book_genres.head()"
   ]
  },
  {
   "cell_type": "code",
   "execution_count": 21,
   "id": "0454fcbb-aca2-49c4-a504-52687d08ac0b",
   "metadata": {},
   "outputs": [],
   "source": [
    "def get_top_genre(g):\n",
    "    return list(g.keys())"
   ]
  },
  {
   "cell_type": "code",
   "execution_count": 23,
   "id": "777a5942-44fc-4885-a102-c0ed336e3cd6",
   "metadata": {},
   "outputs": [
    {
     "data": {
      "text/plain": [
       "(100001,)"
      ]
     },
     "execution_count": 23,
     "metadata": {},
     "output_type": "execute_result"
    }
   ],
   "source": [
    "book_genres['genres'].apply(lambda x: get_top_genre(x)).shape"
   ]
  },
  {
   "cell_type": "code",
   "execution_count": 121,
   "id": "d8f7ab97-0547-4f49-b23e-cfcb1fb48f16",
   "metadata": {},
   "outputs": [],
   "source": [
    "most_popular = all_embeddings.sort_values(by = 'ratings_count', ascending = False)['title_without_series'].unique()[:100]"
   ]
  },
  {
   "cell_type": "code",
   "execution_count": 69,
   "id": "a4ed902f-cd77-4804-abf4-8ea684a45669",
   "metadata": {},
   "outputs": [],
   "source": [
    "def recommend_books(user_book, book_df, top_n = 5):\n",
    "    user_embeddings = book_df[book_df['title_without_series'] == user_book]['combined_vector_avg'].iloc[0]\n",
    "    other_embeddings = np.array(book_df[book_df['title_without_series'] != user_book]['combined_vector'])\n",
    "    cos_sim = cosine_similarity(user_embeddings.reshape((1, -1)), np.vstack(other_embeddings))\n",
    "    indices = np.argsort(cos_sim.flatten())[::-1][:top_n]\n",
    "    #return embedding_df.iloc[indices]['title_without_series']\n",
    "    return pd.DataFrame(cos_sim.flatten()[indices].reshape(-1, 1), columns = ['Similarity Score'], \n",
    "             index = book_df.iloc[indices]['title_without_series'])"
   ]
  },
  {
   "cell_type": "code",
   "execution_count": 71,
   "id": "0ebe5392-ccca-4976-a129-fbbf44b90eeb",
   "metadata": {},
   "outputs": [
    {
     "data": {
      "text/html": [
       "<div>\n",
       "<style scoped>\n",
       "    .dataframe tbody tr th:only-of-type {\n",
       "        vertical-align: middle;\n",
       "    }\n",
       "\n",
       "    .dataframe tbody tr th {\n",
       "        vertical-align: top;\n",
       "    }\n",
       "\n",
       "    .dataframe thead th {\n",
       "        text-align: right;\n",
       "    }\n",
       "</style>\n",
       "<table border=\"1\" class=\"dataframe\">\n",
       "  <thead>\n",
       "    <tr style=\"text-align: right;\">\n",
       "      <th></th>\n",
       "      <th>Similarity Score</th>\n",
       "    </tr>\n",
       "    <tr>\n",
       "      <th>title_without_series</th>\n",
       "      <th></th>\n",
       "    </tr>\n",
       "  </thead>\n",
       "  <tbody>\n",
       "    <tr>\n",
       "      <th>Saga, Vol. 4 (Saga, #4)</th>\n",
       "      <td>0.789300</td>\n",
       "    </tr>\n",
       "    <tr>\n",
       "      <th>Red Queen (Red Queen, #1)</th>\n",
       "      <td>0.763659</td>\n",
       "    </tr>\n",
       "    <tr>\n",
       "      <th>The Interestings</th>\n",
       "      <td>0.755681</td>\n",
       "    </tr>\n",
       "    <tr>\n",
       "      <th>Pale Kings and Princes (Tales from the Shadowhunter Academy, #6)</th>\n",
       "      <td>0.751434</td>\n",
       "    </tr>\n",
       "    <tr>\n",
       "      <th>The Never List</th>\n",
       "      <td>0.751058</td>\n",
       "    </tr>\n",
       "  </tbody>\n",
       "</table>\n",
       "</div>"
      ],
      "text/plain": [
       "                                                    Similarity Score\n",
       "title_without_series                                                \n",
       "Saga, Vol. 4 (Saga, #4)                                     0.789300\n",
       "Red Queen (Red Queen, #1)                                   0.763659\n",
       "The Interestings                                            0.755681\n",
       "Pale Kings and Princes (Tales from the Shadowhu...          0.751434\n",
       "The Never List                                              0.751058"
      ]
     },
     "execution_count": 71,
     "metadata": {},
     "output_type": "execute_result"
    }
   ],
   "source": [
    "recommend_books('Harry Potter and the Sorcerer\\'s Stone (Harry Potter, #1)', book_df, 5)"
   ]
  },
  {
   "cell_type": "code",
   "execution_count": null,
   "id": "9f3d235e-1b50-4408-b8e9-5628080b5fa9",
   "metadata": {},
   "outputs": [],
   "source": [
    "# potential ideas\n",
    "# sentiment analysis (applying existing model)\n",
    "# topic extraction/nlp topic modeling/classification\n",
    "# embedding = classifcation tasks\n",
    "# features: years, rating, genre\n",
    "# concatendate features"
   ]
  },
  {
   "cell_type": "code",
   "execution_count": null,
   "id": "b5850668-48a6-418a-af5b-8e957872ae5b",
   "metadata": {},
   "outputs": [],
   "source": [
    "# streamlit app: recommendation based on genre\n",
    "# llms to generate summary?? of book or book review\n",
    "# cosine distance between two books, return top 5 closest books (would have to merge with book information dataset)\n",
    "# predicting rating = latent factor model"
   ]
  }
 ],
 "metadata": {
  "kernelspec": {
   "display_name": "goodreads",
   "language": "python",
   "name": "goodreads"
  },
  "language_info": {
   "codemirror_mode": {
    "name": "ipython",
    "version": 3
   },
   "file_extension": ".py",
   "mimetype": "text/x-python",
   "name": "python",
   "nbconvert_exporter": "python",
   "pygments_lexer": "ipython3",
   "version": "3.12.2"
  }
 },
 "nbformat": 4,
 "nbformat_minor": 5
}
